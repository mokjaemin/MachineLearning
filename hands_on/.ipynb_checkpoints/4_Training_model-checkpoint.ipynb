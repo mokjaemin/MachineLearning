{
 "cells": [
  {
   "cell_type": "code",
   "execution_count": 1,
   "id": "5b78a233",
   "metadata": {},
   "outputs": [],
   "source": [
    "# 1. 선형회귀\n",
    "\n",
    "# 파라미터 설정 방법\n",
    "# 1. 가장 잘맞는 파라미터 구하기\n",
    "# 2. 경사하강법(천천히 구하는 방법)을 통해 구하기"
   ]
  },
  {
   "cell_type": "code",
   "execution_count": 2,
   "id": "635de214",
   "metadata": {},
   "outputs": [],
   "source": [
    "# 결과 = a*특성1 + an*특성n + 상수값\n",
    "\n",
    "\n",
    "# 데이터 생성\n",
    "import numpy as np\n",
    "\n",
    "X = 2*np.random.rand(100, 1) \n",
    "# 0부터 1까지의 난수를 100*1크기의 행렬로 생성\n",
    "# 2를 곱했으므로 0부터 2까지의 난수를 100*1크기의 행렬로 생성\n",
    "# 샘플은 100개 특성은 1개\n",
    "\n",
    "y = 4 + 3*X + np.random.randn(100, 1)\n",
    "# randn은 표준분포에 대한 난수를 발생 즉, 1부터 -1인 난수를 100*1크기만큼 생성\n",
    "# 그냥 함수의 다양성을 위해 서용했음"
   ]
  },
  {
   "cell_type": "code",
   "execution_count": 3,
   "id": "0c630191",
   "metadata": {},
   "outputs": [
    {
     "data": {
      "image/png": "[encoded data removed]",
      "text/plain": [
       "<Figure size 432x288 with 1 Axes>"
      ]
     },
     "metadata": {
      "needs_background": "light"
     },
     "output_type": "display_data"
    }
   ],
   "source": [
    "# 데이터 표현\n",
    "import matplotlib.pyplot as plt\n",
    "\n",
    "plt.plot(X, y, \"b.\")\n",
    "plt.axis([0, 2, 0, 15]) # x의 범위는 0부터 2, y의 범위는 0부터 15\n",
    "plt.show()"
   ]
  },
  {
   "cell_type": "code",
   "execution_count": 4,
   "id": "d503dcaa",
   "metadata": {},
   "outputs": [
    {
     "data": {
      "text/plain": [
       "array([[3.82238022],\n",
       "       [3.02373073]])"
      ]
     },
     "execution_count": 4,
     "metadata": {},
     "output_type": "execute_result"
    }
   ],
   "source": [
    "# 정규방정식을 통해 파라미터 찾기\n",
    "\n",
    "X_b = np.c_[np.ones((100, 1)), X] \n",
    "# 모든 샘플에 x0 = 1을 추가\n",
    "# np.c_ 는 기존 데이터에 일정 데이터를 추가해주는 함수\n",
    "# ones -> 1을 100*1만큼 추가\n",
    "# X_b는 100*2행렬이 됨\n",
    "\n",
    "\n",
    "theta_best = np.linalg.inv(X_b.T.dot(X_b)).dot(X_b.T).dot(y)\n",
    "# 정규방정식 계산식\n",
    "# 이를 통해 mse가 최소가 되는 즉 0이되는 최적의 파라미터 구하기\n",
    "# np.linalg -> 선형대수 모듈\n",
    "# inv -> 역행렬 계산\n",
    "# dot -> 행렬 곱셈\n",
    "\n",
    "# 계산 과정(단위 : 행렬)\n",
    "# X_b.T --> (2, 100) --> T는 자리 바꿈\n",
    "# X_b.T.dot(X_b) --> (2, 100)(100, 2) --> (2, 2)\n",
    "# np.linalg.inv --> (2, 2)\n",
    "# np.linalg.inv(X_b.T.dot(X_b)).dot(X_b.T) --> (2, 2)(2, 100) --> (2, 100)\n",
    "# np.linalg.inv(X_b.T.dot(X_b)).dot(X_b.T).dot(y) --> (2, 100)(100, 1) --> (2, 1)\n",
    "# result : (2, 1)\n",
    "\n",
    "\n",
    "theta_best\n",
    "# 4와 3을 기대하지만 잡음때문에 정확하진 않음"
   ]
  },
  {
   "cell_type": "code",
   "execution_count": 5,
   "id": "24d81d0e",
   "metadata": {},
   "outputs": [
    {
     "data": {
      "text/plain": [
       "array([[3.82238022],\n",
       "       [9.86984169]])"
      ]
     },
     "execution_count": 5,
     "metadata": {},
     "output_type": "execute_result"
    }
   ],
   "source": [
    "# 예측\n",
    "\n",
    "# 예측 그래프를 그리기 위한 데이터 생성\n",
    "X_new = np.array([[0], [2]]) # x의범위는 0부터 2 \n",
    "X_new_b = np.c_[np.ones((2, 1)), X_new] # 모든 샘플에 x0 = 1을 추가\n",
    "y_predict = X_new_b.dot(theta_best) # 위에서 구한 파라미터 대입하여 함수 그래프 구하기\n",
    "y_predict"
   ]
  },
  {
   "cell_type": "code",
   "execution_count": 6,
   "id": "30f42cc5",
   "metadata": {},
   "outputs": [
    {
     "data": {
      "image/png": "[encoded data removed]",
      "text/plain": [
       "<Figure size 432x288 with 1 Axes>"
      ]
     },
     "metadata": {
      "needs_background": "light"
     },
     "output_type": "display_data"
    }
   ],
   "source": [
    "plt.plot(X_new, y_predict, \"r--\")\n",
    "plt.plot(X, y, \"b.\")\n",
    "plt.axis([0,2,0,15])\n",
    "plt.show()"
   ]
  },
  {
   "cell_type": "code",
   "execution_count": 7,
   "id": "ff7654f1",
   "metadata": {},
   "outputs": [
    {
     "data": {
      "text/plain": [
       "(array([3.82238022]), array([[3.02373073]]))"
      ]
     },
     "execution_count": 7,
     "metadata": {},
     "output_type": "execute_result"
    }
   ],
   "source": [
    "# 위의 선형회귀를 사이킷런을 통한 선형회귀로 구하기\n",
    "\n",
    "from sklearn.linear_model import LinearRegression\n",
    "lin_reg = LinearRegression()\n",
    "lin_reg.fit(X,y)\n",
    "lin_reg.intercept_, lin_reg.coef_"
   ]
  },
  {
   "cell_type": "code",
   "execution_count": 8,
   "id": "61d50276",
   "metadata": {},
   "outputs": [
    {
     "data": {
      "text/plain": [
       "array([[3.82238022],\n",
       "       [9.86984169]])"
      ]
     },
     "execution_count": 8,
     "metadata": {},
     "output_type": "execute_result"
    }
   ],
   "source": [
    "lin_reg.predict(X_new)"
   ]
  },
  {
   "cell_type": "code",
   "execution_count": 9,
   "id": "dab69e87",
   "metadata": {},
   "outputs": [
    {
     "data": {
      "text/plain": [
       "array([[3.82238022],\n",
       "       [3.02373073]])"
      ]
     },
     "execution_count": 9,
     "metadata": {},
     "output_type": "execute_result"
    }
   ],
   "source": [
    "# 최소제곱으로 파라미터 구하기(선형회귀의 재현)\n",
    "\n",
    "theta_best_svd, residuals, rank, s = np.linalg.lstsq(X_b, y, rcond=1e-6)\n",
    "theta_best_svd"
   ]
  },
  {
   "cell_type": "code",
   "execution_count": 10,
   "id": "74af33ba",
   "metadata": {},
   "outputs": [
    {
     "data": {
      "text/plain": [
       "array([[3.82238022],\n",
       "       [3.02373073]])"
      ]
     },
     "execution_count": 10,
     "metadata": {},
     "output_type": "execute_result"
    }
   ],
   "source": [
    "# 최소제곱은 파라미터 = X의 유사역행렬 * y로 계산\n",
    "\n",
    "np.linalg.pinv(X_b).dot(y)"
   ]
  },
  {
   "cell_type": "code",
   "execution_count": 11,
   "id": "a3d9e03c",
   "metadata": {},
   "outputs": [
    {
     "data": {
      "text/plain": [
       "array([[3.82238022],\n",
       "       [3.02373073]])"
      ]
     },
     "execution_count": 11,
     "metadata": {},
     "output_type": "execute_result"
    }
   ],
   "source": [
    "# 경사하강법 구현\n",
    "# 1. 배치 경사 하강법\n",
    "\n",
    "eta = 0.1 # 학습률\n",
    "n_iterations = 1000\n",
    "m = 100\n",
    "\n",
    "theta = np.random.randn(2,1) # 무작위 초기화\n",
    "\n",
    "for iteration in range(n_iterations):\n",
    "    gradients = 2/m * X_b.T.dot(X_b.dot(theta) - y)\n",
    "    theta = theta - eta * gradients\n",
    "\n",
    "theta"
   ]
  },
  {
   "cell_type": "code",
   "execution_count": 12,
   "id": "be999600",
   "metadata": {},
   "outputs": [
    {
     "data": {
      "image/png": "[encoded data removed]",
      "text/plain": [
       "<Figure size 432x288 with 1 Axes>"
      ]
     },
     "metadata": {
      "needs_background": "light"
     },
     "output_type": "display_data"
    }
   ],
   "source": [
    "# 학습률에 따른 그래프 표현\n",
    "\n",
    "def plot_gredient_descent(eta, theta_path=None):\n",
    "    m = len(X_b)\n",
    "    theta = np.random.randn(2,1)\n",
    "    n_iterations = 1000\n",
    "    \n",
    "    for iteration in range(n_iterations):\n",
    "        gradients = 2/m * X_b.T.dot(X_b.dot(theta) - y)\n",
    "        theta = theta - eta * gradients\n",
    "        if iteration < 10:\n",
    "            X_new = np.array([[0], [2]]) # x의범위는 0부터 2 \n",
    "            X_new_b = np.c_[np.ones((2, 1)), X_new] # 모든 샘플에 x0 = 1을 추가\n",
    "            y_predict = X_new_b.dot(theta) # 위에서 구한 파라미터 대입하여 함수 그래프 구하기\n",
    "            y_predict\n",
    "            plt.plot(X_new, y_predict, \"r--\")\n",
    "            plt.plot(X, y, \"b.\")\n",
    "            plt.axis([0,2,0,15])\n",
    "        if iteration == 10:\n",
    "            plt.show()\n",
    "            \n",
    "plot_gredient_descent(0.1)"
   ]
  },
  {
   "cell_type": "code",
   "execution_count": 13,
   "id": "459636f1",
   "metadata": {},
   "outputs": [
    {
     "data": {
      "text/plain": [
       "array([[3.80879686],\n",
       "       [3.05299745]])"
      ]
     },
     "execution_count": 13,
     "metadata": {},
     "output_type": "execute_result"
    }
   ],
   "source": [
    "# 2. 확률적 경사하강법\n",
    "# 훈련데이터에서 무작위로 샘플을 선정해서 그레디언트(경사율)을 구하면서 최적의 파라미터를 찾음(계속되는 갱신을 통해)\n",
    "# 시간이 단축되지만 정확도가 떨어질 가능성이 있음\n",
    "\n",
    "# 학습스케쥴\n",
    "# 학습스케쥴을 조정해 확률적 경사하강법을 강화\n",
    "# 학습률을 점점 작게하는 방법\n",
    "\n",
    "theta_path_sgd = []\n",
    "n_epochs = 50\n",
    "t0, t1 = 5, 50 # 학습 스케쥴 하이퍼파라미터\n",
    "\n",
    "\n",
    "# 0.1의 학습률에서 점점 줄어듦.\n",
    "def learning_schedule(t):\n",
    "    return t0 / (t + t1)\n",
    "\n",
    "theta = np.random.randn(2,1) # 무작위 초기화\n",
    "m = len(X_b) # m = 100\n",
    "\n",
    "\n",
    "for epoch in range(n_epochs):\n",
    "    for i in range(m): # 한 에포크안에 전체 무작위 샘플에 대한 실행\n",
    "        random_index = np.random.randint(m) # 0-99중 하나의 인덱스 설정\n",
    "        xi = X_b[random_index:random_index+1] # ex) random_index = 10, xi = X_b[10:11]\n",
    "        yi = y[random_index:random_index+1] # yi = y[10:11]\n",
    "        gradients = 2*xi.T.dot(xi.dot(theta) - yi)\n",
    "        eta = learning_schedule(epoch * m + i)\n",
    "        theta = theta - eta * gradients\n",
    "        theta_path_sgd.append(theta) # theta_path_sgd 배열에 theta 값 추가를 반복\n",
    "        \n",
    "theta"
   ]
  },
  {
   "cell_type": "code",
   "execution_count": 14,
   "id": "6c1f3b7b",
   "metadata": {},
   "outputs": [
    {
     "data": {
      "image/png": "[encoded data removed]",
      "text/plain": [
       "<Figure size 432x288 with 1 Axes>"
      ]
     },
     "metadata": {
      "needs_background": "light"
     },
     "output_type": "display_data"
    }
   ],
   "source": [
    "# 위에서 추가한 theta값들을 통해 10개까지 그래프 그려보기\n",
    "\n",
    "i = 0\n",
    "\n",
    "for theta_path in theta_path_sgd:\n",
    "    X_new = np.array([[0], [2]]) # x의범위는 0부터 2 \n",
    "    X_new_b = np.c_[np.ones((2, 1)), X_new] # 모든 샘플에 x0 = 1을 추가\n",
    "    y_predict = X_new_b.dot(theta_path) # 위에서 구한 파라미터 대입하여 함수 그래프 구하기\n",
    "    y_predict\n",
    "    plt.plot(X_new, y_predict, \"r--\")\n",
    "    plt.plot(X, y, \"b.\")\n",
    "    plt.axis([0,2,0,15])\n",
    "    i = i + 1\n",
    "    if i == 10:\n",
    "        plt.show()\n",
    "        break\n",
    "    "
   ]
  },
  {
   "cell_type": "code",
   "execution_count": 15,
   "id": "868f52b8",
   "metadata": {},
   "outputs": [
    {
     "data": {
      "text/plain": [
       "5000"
      ]
     },
     "execution_count": 15,
     "metadata": {},
     "output_type": "execute_result"
    }
   ],
   "source": [
    "len(theta_path_sgd) # 5000번의 실행 --> 50번의 에포크당 100번의 전체샘플 내의 무작위 샘플을 가지고 실행"
   ]
  },
  {
   "cell_type": "code",
   "execution_count": 16,
   "id": "07af5e04",
   "metadata": {},
   "outputs": [
    {
     "data": {
      "text/plain": [
       "SGDRegressor(eta0=0.1, penalty=None)"
      ]
     },
     "execution_count": 16,
     "metadata": {},
     "output_type": "execute_result"
    }
   ],
   "source": [
    "# 사이킷런에서 제공하는 확률적경사하강법\n",
    "\n",
    "from sklearn.linear_model import SGDRegressor\n",
    "\n",
    "sgd_reg = SGDRegressor(max_iter = 1000, tol = 1e-3, penalty = None, eta0 = 0.1)\n",
    "# max_iter -> 에포크 수, tol -> 해당하는 숫자보다 적께 손실이 줄어들때까지 실행, eta0 -> 학습률, penalty -> 규제\n",
    "sgd_reg.fit(X, y.ravel())"
   ]
  },
  {
   "cell_type": "code",
   "execution_count": 17,
   "id": "5d405474",
   "metadata": {},
   "outputs": [
    {
     "data": {
      "text/plain": [
       "(array([3.7906772]), array([3.0371249]))"
      ]
     },
     "execution_count": 17,
     "metadata": {},
     "output_type": "execute_result"
    }
   ],
   "source": [
    "sgd_reg.intercept_, sgd_reg.coef_"
   ]
  },
  {
   "cell_type": "code",
   "execution_count": 18,
   "id": "18c8aab1",
   "metadata": {},
   "outputs": [],
   "source": [
    "# 선형회귀 정리\n",
    "\n",
    "# 종류\n",
    "# 1. 정규 방정식\n",
    "# 2. SVD\n",
    "# 3. 배치 경사 하강법\n",
    "# 4. 확률정 경사 하강법\n",
    "# 5. 미니배치 경사 하강법\n",
    "\n",
    "# 고찰\n",
    "# 1,2는 한번에, 3,4,5는 조금씩 분석 즉, 3,4,5는 많은 데이터를 조금씩 학습하는데 용이\n",
    "# 3은 4,5보다 시간이 오래걸림\n",
    "# 5가지의 선형회귀에 장단점을 따져 적절한 환경에서 필요한 적절한 모델 선택\n",
    "# 176p 표에 장단점 정리되어 있음. "
   ]
  },
  {
   "cell_type": "code",
   "execution_count": 19,
   "id": "fcb7f2e1",
   "metadata": {},
   "outputs": [
    {
     "data": {
      "image/png": "[encoded data removed]",
      "text/plain": [
       "<Figure size 432x288 with 1 Axes>"
      ]
     },
     "metadata": {
      "needs_background": "light"
     },
     "output_type": "display_data"
    }
   ],
   "source": [
    "# 2. 다항 회귀\n",
    "# 방법 -> 선형회귀를 사용하되, 각 특성의 거듭제곱으로 새로운 특성을 추가\n",
    "\n",
    "# 데이터 생성\n",
    "import numpy as np\n",
    "m = 100\n",
    "X = 6*np.random.rand(m, 1) -3\n",
    "y = 0.5*X**2 + X + 2 + np.random.rand(m, 1)\n",
    "\n",
    "# 그래프 그려보기\n",
    "import matplotlib.pyplot as plt\n",
    "plt.plot(X, y, \"b.\")\n",
    "plt.axis([-3, 3, 0, 10])\n",
    "plt.show()"
   ]
  },
  {
   "cell_type": "code",
   "execution_count": 20,
   "id": "a3bc0cb9",
   "metadata": {},
   "outputs": [
    {
     "data": {
      "text/plain": [
       "array([0.59899706])"
      ]
     },
     "execution_count": 20,
     "metadata": {},
     "output_type": "execute_result"
    }
   ],
   "source": [
    "# 위에서 생성한 훈련세트의 특성을 제곱하여 새로운 특성을 추가\n",
    "\n",
    "from sklearn.preprocessing import PolynomialFeatures\n",
    "poly_features = PolynomialFeatures(degree = 2, include_bias = False)\n",
    "X_poly = poly_features.fit_transform(X)\n",
    "X[0]"
   ]
  },
  {
   "cell_type": "code",
   "execution_count": 21,
   "id": "e8205b8b",
   "metadata": {},
   "outputs": [
    {
     "data": {
      "text/plain": [
       "array([0.59899706, 0.35879748])"
      ]
     },
     "execution_count": 21,
     "metadata": {},
     "output_type": "execute_result"
    }
   ],
   "source": [
    "X_poly[0]"
   ]
  },
  {
   "cell_type": "code",
   "execution_count": 22,
   "id": "62947562",
   "metadata": {},
   "outputs": [
    {
     "data": {
      "text/plain": [
       "(array([2.52253024]), array([[0.97675891, 0.50531246]]))"
      ]
     },
     "execution_count": 22,
     "metadata": {},
     "output_type": "execute_result"
    }
   ],
   "source": [
    "# 선형회귀에 데이터세트 훈련\n",
    "\n",
    "from sklearn.linear_model import LinearRegression\n",
    "lin_reg = LinearRegression()\n",
    "lin_reg.fit(X_poly, y)\n",
    "lin_reg.intercept_, lin_reg.coef_\n",
    "# 상수, X의계수, X제곱의 계수"
   ]
  },
  {
   "cell_type": "code",
   "execution_count": 23,
   "id": "0d01fc68",
   "metadata": {},
   "outputs": [
    {
     "data": {
      "image/png": "[encoded data removed]",
      "text/plain": [
       "<Figure size 432x288 with 1 Axes>"
      ]
     },
     "metadata": {
      "needs_background": "light"
     },
     "output_type": "display_data"
    }
   ],
   "source": [
    "# 그래프 그려보기\n",
    "X_new = np.linspace(-3, 3, 100) # -3부터 3까지 100개의 데이터\n",
    "\n",
    "\n",
    "plt.plot(X, y, \"b.\")\n",
    "y_new = lin_reg.coef_[0][1]*X_new**2 + lin_reg.coef_[0][0]*X_new + lin_reg.intercept_\n",
    "plt.plot(X_new, y_new, \"r--\")\n",
    "plt.axis([-3, 3, 0, 10])\n",
    "plt.show()"
   ]
  },
  {
   "cell_type": "code",
   "execution_count": 24,
   "id": "cd22ac19",
   "metadata": {},
   "outputs": [
    {
     "data": {
      "image/png": "[encoded data removed]",
      "text/plain": [
       "<Figure size 432x288 with 1 Axes>"
      ]
     },
     "metadata": {
      "needs_background": "light"
     },
     "output_type": "display_data"
    }
   ],
   "source": [
    "# 학습 곡선\n",
    "# 1차 방정식에 대한 학습곡선\n",
    "\n",
    "from sklearn.metrics import mean_squared_error\n",
    "from sklearn.model_selection import train_test_split\n",
    "\n",
    "def plot_learning_curves(model, X, y): # 모델과 데이터 x, y를 입력받음\n",
    "    X_train, X_val, y_train, y_val = train_test_split(X, y, test_size = 0.2) # 훈련세트와 검증세트로 나눔\n",
    "    train_errors, val_errors = [], [] # 훈련세트와 검증세트 에러를 담을 변수\n",
    "    for m in range(1, len(X_train)):\n",
    "        model.fit(X_train[:m], y_train[:m]) # 훈련시킴\n",
    "        y_train_predict = model.predict(X_train[:m]) # 훈련세트에 대한 예측\n",
    "        y_val_predict = model.predict(X_val) # 검증세트에 대한 예측\n",
    "        train_errors.append(mean_squared_error(y_train[:m], y_train_predict)) # 훈련세트에에 대한 rmse점수 추가\n",
    "        val_errors.append(mean_squared_error(y_val, y_val_predict)) # 교차 검증에 대한 rmse점수 추가\n",
    "    plt.plot(np.sqrt(train_errors), \"r--\", linewidth = 2, label =\"Train\")\n",
    "    plt.plot(np.sqrt(val_errors), \"b-\", linewidth = 3, label =\"Val\")\n",
    "    plt.axis([0, 80, 0, 3])\n",
    "    \n",
    "lin_reg = LinearRegression()\n",
    "plot_learning_curves(lin_reg, X, y)\n",
    "\n",
    "# 그래프 분석\n",
    "# 1. 훈련세트가 많아질수록 과소적합\n",
    "# 2. 훈련데이터의 성능에서 훈련세트가 많아질수록 잡음이 많아지고 비선형이기에 모델이 훈련데이터를 완벽하게 학습하는것이 불가능\n",
    "# 3. 검증데이터의 성능에서 샘플이 증가함에 따라 오차가 감소함을 확인 가능\n",
    "# 정리 -> 과소적합시에는 훈련샘플을 더 추가해도 효과가 없기에 더 복잡한 모델을 사용하거나 더 나은 특성을 선택해야 한다."
   ]
  },
  {
   "cell_type": "code",
   "execution_count": 25,
   "id": "32d3fd53",
   "metadata": {},
   "outputs": [
    {
     "data": {
      "image/png": "[encoded data removed]",
      "text/plain": [
       "<Figure size 432x288 with 1 Axes>"
      ]
     },
     "metadata": {
      "needs_background": "light"
     },
     "output_type": "display_data"
    }
   ],
   "source": [
    "# 10차 방정식에 대한 학습곡선\n",
    "\n",
    "from sklearn.pipeline import Pipeline\n",
    "polynomial_regression = Pipeline([\n",
    "    (\"poly_features\", PolynomialFeatures(degree = 10, include_bias = False)),\n",
    "    (\"lin_reg\", LinearRegression()),\n",
    "])\n",
    "plot_learning_curves(polynomial_regression, X, y)\n",
    "\n",
    "# 그래프 분석\n",
    "# 1. 처음에 두 곡선 사이에 공간이 크지만 샘플이 추가됨에 따라 공간이 줄어듦.\n",
    "# 즉, 공간이 크다는 것은 과대적합을 의미하는데 훈련량이 많아짐에 따라 과대적합 해소\n",
    "# 과대적합을 해소하기 위해서는 더 많은 훈련데이터가 훈련에 사용되어야 함."
   ]
  },
  {
   "cell_type": "code",
   "execution_count": 26,
   "id": "1ccebdd4",
   "metadata": {},
   "outputs": [],
   "source": [
    "# 오차의 원인 분석\n",
    "\n",
    "# 1. 편향 -> 잘못된 가정이 원인, ex) 2차 곡선을 직선으로 판단, 과소적합의 원인\n",
    "# 2. 분산 -> 모델이 훈련데이터에 작은 변동에 너무 민감히 반응, 과대적합의 원인\n",
    "# 3. 줄일 수 없는 오차 -> 훈련데이터의 잡음 때문에 발생, 잡음을 제가해야 함\n",
    "# 통상적으로 분산과 편향을 트레이드오프 관계이다."
   ]
  },
  {
   "cell_type": "code",
   "execution_count": 27,
   "id": "fa567e2c",
   "metadata": {},
   "outputs": [
    {
     "data": {
      "image/png": "[encoded data removed]",
      "text/plain": [
       "<Figure size 432x288 with 1 Axes>"
      ]
     },
     "metadata": {
      "needs_background": "light"
     },
     "output_type": "display_data"
    }
   ],
   "source": [
    "# 규제\n",
    "# 과대 적합과 과소적합을 조절하기 위해 규제를 사용한다.\n",
    "# 특정 알파 값을 조정함으로써 그 크기를 조절\n",
    "\n",
    "# 규제 1. 릿지 회귀\n",
    "from sklearn.preprocessing import StandardScaler\n",
    "from sklearn.linear_model import Ridge\n",
    "reidge_reg = Ridge(alpha=1, solver=\"cholesky\")\n",
    "\n",
    "X_new = np.linspace(-3, 3, 100).reshape(100, 1)\n",
    "y_new = 2*X_new**3 - X_new**2 - 7*X_new + 2\n",
    "\n",
    "make_pipeline = Pipeline([\n",
    "    (\"poly_features\", PolynomialFeatures(degree=3, include_bias = False)), # 3차함수\n",
    "    (\"std_scaler\", StandardScaler()), # 정규화\n",
    "    (\"ridge_reg\", Ridge(alpha = 10, solver=\"cholesky\")), # 알파값을 조정함으로써 규제, 값이 클수록 규제가 강해짐\n",
    "])\n",
    "\n",
    "make_pipeline.fit(X_new, y_new)\n",
    "y_pip_predictions = make_pipeline.predict(X_new)\n",
    "\n",
    "plt.plot(X_new, y_new, \"b.\")\n",
    "plt.plot(X_new, y_pip_predictions, \"r--\")\n",
    "plt.show()"
   ]
  },
  {
   "cell_type": "code",
   "execution_count": 28,
   "id": "90596a92",
   "metadata": {},
   "outputs": [
    {
     "name": "stderr",
     "output_type": "stream",
     "text": [
      "/Library/Frameworks/Python.framework/Versions/3.9/lib/python3.9/site-packages/sklearn/utils/validation.py:63: DataConversionWarning: A column-vector y was passed when a 1d array was expected. Please change the shape of y to (n_samples, ), for example using ravel().\n",
      "  return f(*args, **kwargs)\n"
     ]
    },
    {
     "data": {
      "image/png": "[encoded data removed]",
      "text/plain": [
       "<Figure size 432x288 with 1 Axes>"
      ]
     },
     "metadata": {
      "needs_background": "light"
     },
     "output_type": "display_data"
    }
   ],
   "source": [
    "# 확률적 경사하강법을 사용하여 릿지회귀 구현\n",
    "\n",
    "from sklearn.linear_model import SGDRegressor\n",
    "\n",
    "make_pipeline = Pipeline([\n",
    "    (\"poly_features\", PolynomialFeatures(degree=3, include_bias = False)), # 3차함수\n",
    "    (\"std_scaler\", StandardScaler()), # 정규화\n",
    "    (\"sgd_reg\", SGDRegressor(penalty=\"l2\")), # 알파값을 조정함으로써 규제, 값이 클수록 규제가 강해짐\n",
    "])\n",
    "\n",
    "make_pipeline.fit(X_new, y_new)\n",
    "y_pip_predictions = make_pipeline.predict(X_new)\n",
    "\n",
    "plt.plot(X_new, y_new, \"b.\")\n",
    "plt.plot(X_new, y_pip_predictions, \"r--\")\n",
    "plt.show()"
   ]
  },
  {
   "cell_type": "code",
   "execution_count": 29,
   "id": "f24a7058",
   "metadata": {},
   "outputs": [
    {
     "data": {
      "image/png": "[encoded data removed]",
      "text/plain": [
       "<Figure size 432x288 with 1 Axes>"
      ]
     },
     "metadata": {
      "needs_background": "light"
     },
     "output_type": "display_data"
    }
   ],
   "source": [
    "# 규제 2. 라쏘회귀\n",
    "# 특징\n",
    "# 릿지회귀보다 규제값 알파가 작음.\n",
    "# 덜 중요한 특성의 가중치를 자동으로 제거한다.\n",
    "\n",
    "from sklearn.linear_model import Lasso\n",
    "make_pipeline = Pipeline([\n",
    "    (\"poly_features\", PolynomialFeatures(degree=3, include_bias = False)), # 3차함수\n",
    "    (\"std_scaler\", StandardScaler()), # 정규화\n",
    "    (\"lasso_reg\", Lasso(alpha = 1)), # 알파값을 조정함으로써 규제, 값이 클수록 규제가 강해짐\n",
    "])\n",
    "\n",
    "make_pipeline.fit(X_new, y_new)\n",
    "y_pip_predictions = make_pipeline.predict(X_new)\n",
    "\n",
    "plt.plot(X_new, y_new, \"b.\")\n",
    "plt.plot(X_new, y_pip_predictions, \"r--\")\n",
    "plt.show()"
   ]
  },
  {
   "cell_type": "code",
   "execution_count": 30,
   "id": "a392b370",
   "metadata": {},
   "outputs": [
    {
     "name": "stderr",
     "output_type": "stream",
     "text": [
      "/Library/Frameworks/Python.framework/Versions/3.9/lib/python3.9/site-packages/sklearn/utils/validation.py:63: DataConversionWarning: A column-vector y was passed when a 1d array was expected. Please change the shape of y to (n_samples, ), for example using ravel().\n",
      "  return f(*args, **kwargs)\n"
     ]
    },
    {
     "data": {
      "image/png": "[encoded data removed]",
      "text/plain": [
       "<Figure size 432x288 with 1 Axes>"
      ]
     },
     "metadata": {
      "needs_background": "light"
     },
     "output_type": "display_data"
    }
   ],
   "source": [
    "# 확률적 경사하강법을 사용한 라쏘회귀\n",
    "\n",
    "make_pipeline = Pipeline([\n",
    "    (\"poly_features\", PolynomialFeatures(degree=3, include_bias = False)), # 3차함수\n",
    "    (\"std_scaler\", StandardScaler()), # 정규화\n",
    "    (\"sgd_reg\", SGDRegressor(penalty=\"l1\")), # 알파값을 조정함으로써 규제, 값이 클수록 규제가 강해짐\n",
    "])\n",
    "\n",
    "make_pipeline.fit(X_new, y_new)\n",
    "y_pip_predictions = make_pipeline.predict(X_new)\n",
    "\n",
    "plt.plot(X_new, y_new, \"b.\")\n",
    "plt.plot(X_new, y_pip_predictions, \"r--\")\n",
    "plt.show()"
   ]
  },
  {
   "cell_type": "code",
   "execution_count": 31,
   "id": "9a4f2094",
   "metadata": {},
   "outputs": [
    {
     "data": {
      "image/png": "[encoded data removed]",
      "text/plain": [
       "<Figure size 432x288 with 1 Axes>"
      ]
     },
     "metadata": {
      "needs_background": "light"
     },
     "output_type": "display_data"
    }
   ],
   "source": [
    "# 규제 3. 엘라스틱넷\n",
    "# 특징\n",
    "# 1. 규제항은 릿지와 회귀의 규제항을 단순히 더해서 사용\n",
    "# 2. 혼합정도는 r을 통해 조절 -> 0이면 릿지회귀와 동일, 1이면 라쏘회귀와 동일\n",
    "\n",
    "from sklearn.linear_model import ElasticNet\n",
    "\n",
    "make_pipeline = Pipeline([\n",
    "    (\"poly_features\", PolynomialFeatures(degree=3, include_bias = False)), # 3차함수\n",
    "    (\"std_scaler\", StandardScaler()), # 정규화\n",
    "    (\"elastic_net\", ElasticNet(alpha = 0.1, l1_ratio=0.15)), # l1_ratio -> 혼합비율\n",
    "])\n",
    "\n",
    "make_pipeline.fit(X_new, y_new)\n",
    "y_pip_predictions = make_pipeline.predict(X_new)\n",
    "\n",
    "plt.plot(X_new, y_new, \"b.\")\n",
    "plt.plot(X_new, y_pip_predictions, \"r--\")\n",
    "plt.show()"
   ]
  },
  {
   "cell_type": "code",
   "execution_count": 32,
   "id": "67268e95",
   "metadata": {},
   "outputs": [],
   "source": [
    "# 회귀 및 규제 고찰\n",
    "\n",
    "# 1. 일반적으로 선형회귀는 피한다\n",
    "# 2. 릿지를 기본적으로 사용\n",
    "# 3. 특성이 몇 개뿐이라고 의심되면 라쏘나 엘라스틱넷이 유용\n",
    "# 4. 특성수가 많거나 특성 몇개가 강하게 연관된 데이터일 경우 라쏘는 사용하지 않고 엘라스틱을 선호"
   ]
  },
  {
   "cell_type": "code",
   "execution_count": 33,
   "id": "f06fc222",
   "metadata": {},
   "outputs": [],
   "source": [
    "# 조기 종료\n",
    "# 확률적 경사하강법과 같이 반복적인 작업을 하는 알고리즘에서 검증세트에 대한 에러(RMSE)가 최소가 되는 순간 훈련을 중지\n",
    "\n",
    "\n",
    "# 모델 생성\n",
    "np.random.seed(42)\n",
    "m = 100\n",
    "X = 6*np.random.rand(m, 1) -3\n",
    "y = 2 + X + 0.5 + X**2 + np.random.randn(m, 1)\n",
    "\n",
    "\n",
    "# 테스트세트와 검증세트 생성\n",
    "X_train, X_val, y_train, y_val = train_test_split(X[:50], y[:50].ravel(), test_size = 0.5, random_state=10)\n",
    "\n",
    "\n",
    "# 모델을 저장하기 위해 사용\n",
    "from sklearn.base import clone\n",
    "\n",
    "\n",
    "# 데이터 정제 파이프라인\n",
    "poly_scaler = Pipeline([\n",
    "    (\"poly_features\", PolynomialFeatures(degree=90, include_bias=False)), # 10차 새로운 특성 추가\n",
    "    (\"std_scaler\", StandardScaler()), # 정규화\n",
    "])\n",
    "\n",
    "# 파이프라인으로 데이터 정제\n",
    "X_train_poly_scaled = poly_scaler.fit_transform(X_train)\n",
    "X_val_poly_scaled = poly_scaler.fit_transform(X_val)\n",
    "\n",
    "\n",
    "# 확률적 경사하강법, 에포크수를 1로 지정하고 밑에 for문으로 통해 에포크 진행\n",
    "sgd_reg = SGDRegressor(max_iter = 1, tol = -np.infty, warm_start = True, penalty = None, \n",
    "                       learning_rate = \"constant\", eta0 = 0.0005, random_state = 42)\n",
    "\n",
    "\n",
    "# 초기화\n",
    "minimum_val_error = float(\"inf\")\n",
    "best_epoch = None\n",
    "best_model = None\n",
    "\n",
    "\n",
    "# 에포크 수는 1000번\n",
    "for epoch in range(1000):\n",
    "    sgd_reg.fit(X_train_poly_scaled, y_train) # 훈련\n",
    "    y_val_predict = sgd_reg.predict(X_val_poly_scaled) # 검증세트 예측값\n",
    "    val_error = mean_squared_error(y_val, y_val_predict) # 검증세트에 대한 RMSE\n",
    "    \n",
    "    if val_error < minimum_val_error: # 검증세트의 RMSE가 최소가될때\n",
    "        minimum_val_error = val_error # RMSE값 저장\n",
    "        best_epoch = epoch # 에포크 수 저장\n",
    "        best_model = clone(sgd_reg) # 모델 저장"
   ]
  },
  {
   "cell_type": "code",
   "execution_count": 34,
   "id": "00c6b3ff",
   "metadata": {},
   "outputs": [
    {
     "data": {
      "image/png": "[encoded data removed]",
      "text/plain": [
       "<Figure size 432x288 with 1 Axes>"
      ]
     },
     "metadata": {
      "needs_background": "light"
     },
     "output_type": "display_data"
    }
   ],
   "source": [
    "# 그래프로 표현\n",
    "\n",
    "sgd_reg = SGDRegressor(max_iter = 1, tol = -np.infty, warm_start = True, penalty = None, \n",
    "                       learning_rate = \"constant\", eta0 = 0.0005, random_state = 42)\n",
    "# warm_start = True 지정시 fit()메서드 호출시 처음부터 다시 시작하지 않고 이전 모델 파라미터에서 훈련을 이어간다.\n",
    "\n",
    "# 에포크 수 초기화\n",
    "n_epochs = 500\n",
    "# RMSE값을 담을 변수\n",
    "train_errors, val_errors = [], []\n",
    "\n",
    "# 에포크 진행\n",
    "for epoch in range(n_epochs):\n",
    "    sgd_reg.fit(X_train_poly_scaled, y_train)\n",
    "    y_train_predict = sgd_reg.predict(X_train_poly_scaled)\n",
    "    y_val_predict = sgd_reg.predict(X_val_poly_scaled)\n",
    "    train_errors.append(mean_squared_error(y_train, y_train_predict)) # 훈련세트에 대한 RMSE\n",
    "    val_errors.append(mean_squared_error(y_val, y_val_predict)) # 검증세트에 대한 RMSE\n",
    "    \n",
    "\n",
    "# 검증세트에 대한 RMSE값중에 최소값을 활용해 에포크값과 RMSE 저장\n",
    "best_epoch = np.argmin(val_errors)\n",
    "best_val_rmse = np.sqrt(val_errors[best_epoch])\n",
    "\n",
    "\n",
    "plt.annotate('Best model',\n",
    "             xy=(best_epoch, best_val_rmse),\n",
    "             xytext=(best_epoch, best_val_rmse + 1),\n",
    "             ha=\"center\",\n",
    "             arrowprops=dict(facecolor='black', shrink=0.05),\n",
    "             fontsize=16,\n",
    "            )\n",
    "\n",
    "best_val_rmse -= 0.03  # just to make the graph look better\n",
    "plt.plot([0, n_epochs], [best_val_rmse, best_val_rmse], \"k:\", linewidth=2) # 검은 점선\n",
    "plt.plot(np.sqrt(val_errors), \"b-\", linewidth=3, label=\"Validation set\") # 파란 선\n",
    "plt.plot(np.sqrt(train_errors), \"r--\", linewidth=2, label=\"Training set\") # 빨간 점선\n",
    "plt.legend(loc=\"upper right\", fontsize=14)\n",
    "plt.xlabel(\"Epoch\", fontsize=14)\n",
    "plt.ylabel(\"RMSE\", fontsize=14)\n",
    "plt.show()"
   ]
  },
  {
   "cell_type": "code",
   "execution_count": 35,
   "id": "b5bc0588",
   "metadata": {},
   "outputs": [
    {
     "data": {
      "text/plain": [
       "['data',\n",
       " 'target',\n",
       " 'frame',\n",
       " 'target_names',\n",
       " 'DESCR',\n",
       " 'feature_names',\n",
       " 'filename']"
      ]
     },
     "execution_count": 35,
     "metadata": {},
     "output_type": "execute_result"
    }
   ],
   "source": [
    "# 로지스틱 회귀\n",
    "# 회귀 알고리즘을 활용한 분류\n",
    "# 해당 클래스에 속할 확률로 분류를 진행\n",
    "# 0과 1사이에 확률을 출력하는 시그모이드 함수 활용\n",
    "\n",
    "# 1. 이진 분류기\n",
    "# 꽃잎의 너비를 기반으로 Iris-Versicolor 종을 분류하는 알고리즘\n",
    "from sklearn import datasets\n",
    "iris = datasets.load_iris()\n",
    "list(iris.keys())"
   ]
  },
  {
   "cell_type": "code",
   "execution_count": 36,
   "id": "2847507e",
   "metadata": {},
   "outputs": [],
   "source": [
    "X = iris[\"data\"][:, 3:] # 꽃잎의 너비에 관한 데이터\n",
    "y = (iris[\"target\"] == 2).astype(np.int) \n",
    "# 3가지의 종준 2번째에 해당하는 종인 Iris-Versicolor이면 1 아니면 0으로 타깃데이터 생성"
   ]
  },
  {
   "cell_type": "code",
   "execution_count": 38,
   "id": "eb82d215",
   "metadata": {},
   "outputs": [
    {
     "data": {
      "text/plain": [
       "LogisticRegression()"
      ]
     },
     "execution_count": 38,
     "metadata": {},
     "output_type": "execute_result"
    }
   ],
   "source": [
    "# 모델 생성 및 훈련\n",
    "from sklearn.linear_model import LogisticRegression\n",
    "\n",
    "log_reg = LogisticRegression()\n",
    "log_reg.fit(X, y)"
   ]
  },
  {
   "cell_type": "code",
   "execution_count": 116,
   "id": "4e159b7b",
   "metadata": {},
   "outputs": [
    {
     "data": {
      "image/png": "[encoded data removed]",
      "text/plain": [
       "<Figure size 432x288 with 1 Axes>"
      ]
     },
     "metadata": {
      "needs_background": "light"
     },
     "output_type": "display_data"
    }
   ],
   "source": [
    "X_new = np.linspace(0, 3, 1000).reshape(-1, 1)\n",
    "y_proba = log_reg.predict_proba(X_new)\n",
    "y_iris, y_not_iris = [], []\n",
    "for i in y:\n",
    "    if i == 1 :\n",
    "        y_iris.append(1)\n",
    "    if i == 0 :\n",
    "        y_not_iris.append(0)\n",
    "y_iris = np.array(y_iris).reshape(-1, 1)\n",
    "y_not_iris = np.array(y_not_iris).reshape(-1, 1)\n",
    "X_not_iris = X[:100]\n",
    "X_iris = X[100:]\n",
    "        \n",
    "plt.plot(X_new, y_proba[:, 1], \"g-\", label=\"Iris versicolor\")\n",
    "plt.plot(X_new, y_proba[:, 0], \"b--\", label=\"Not Iris versicolor\")\n",
    "plt.plot(X_iris, y_iris, \"g^\")\n",
    "plt.plot(X_not_iris, y_not_iris, \"b^\")\n",
    "plt.legend()\n",
    "plt.show()"
   ]
  },
  {
   "cell_type": "code",
   "execution_count": null,
   "id": "e0a075d8",
   "metadata": {},
   "outputs": [],
   "source": [
    "# 그래프 해석\n",
    "# 너비가 클수록 혹은 작을수록 클래스에 대한 구별이 가능하지만 해당 데이터가 겹치는 부분은 존재\n",
    "# 그 부분에 대해서 확률로 자세히 나타남"
   ]
  },
  {
   "cell_type": "code",
   "execution_count": 123,
   "id": "a6c79b9d",
   "metadata": {},
   "outputs": [
    {
     "data": {
      "text/plain": [
       "array([1])"
      ]
     },
     "execution_count": 123,
     "metadata": {},
     "output_type": "execute_result"
    }
   ],
   "source": [
    "# 겹치는 부분이 있더라도 확률을 통해 로지스틱회귀는 분류됨\n",
    "log_reg.predict([[1.7]])"
   ]
  },
  {
   "cell_type": "code",
   "execution_count": 126,
   "id": "7b107071",
   "metadata": {},
   "outputs": [
    {
     "data": {
      "text/plain": [
       "LogisticRegression(C=10, multi_class='multinomial')"
      ]
     },
     "execution_count": 126,
     "metadata": {},
     "output_type": "execute_result"
    }
   ],
   "source": [
    "# 2. 다중 분류기\n",
    "# 로지스틱 회귀에서 소프트맥스 함수를 사용하면 다중 분류가 가능\n",
    "\n",
    "X = iris[\"data\"][:, (2,3)] # 꽃잎 길이, 꽃잎 너비\n",
    "y = iris[\"target\"]\n",
    "\n",
    "softmax_reg = LogisticRegression(multi_class = \"multinomial\", solver=\"lbfgs\", C = 10)\n",
    "# C 는 규제\n",
    "softmax_reg.fit(X, y)"
   ]
  },
  {
   "cell_type": "code",
   "execution_count": 129,
   "id": "ad49e86a",
   "metadata": {},
   "outputs": [
    {
     "data": {
      "text/plain": [
       "array([2])"
      ]
     },
     "execution_count": 129,
     "metadata": {},
     "output_type": "execute_result"
    }
   ],
   "source": [
    "softmax_reg.predict([[5, 2]])\n",
    "# 길이 5, 너비 2인 꽃을 클래스 2로 분류"
   ]
  },
  {
   "cell_type": "code",
   "execution_count": 131,
   "id": "eee51084",
   "metadata": {},
   "outputs": [
    {
     "data": {
      "text/plain": [
       "array([[6.38014896e-07, 5.74929995e-02, 9.42506362e-01]])"
      ]
     },
     "execution_count": 131,
     "metadata": {},
     "output_type": "execute_result"
    }
   ],
   "source": [
    "softmax_reg.predict_proba([[5, 2]])\n",
    "# 클래스 0, 1, 2중 2가 가장 높은 확률"
   ]
  },
  {
   "cell_type": "code",
   "execution_count": 1,
   "id": "3571494b",
   "metadata": {},
   "outputs": [],
   "source": [
    "# 4장 그래프 5장 정리에 해놓음."
   ]
  },
  {
   "cell_type": "code",
   "execution_count": null,
   "id": "678e473b",
   "metadata": {},
   "outputs": [],
   "source": []
  }
 ],
 "metadata": {
  "kernelspec": {
   "display_name": "Python 3 (ipykernel)",
   "language": "python",
   "name": "python3"
  },
  "language_info": {
   "codemirror_mode": {
    "name": "ipython",
    "version": 3
   },
   "file_extension": ".py",
   "mimetype": "text/x-python",
   "name": "python",
   "nbconvert_exporter": "python",
   "pygments_lexer": "ipython3",
   "version": "3.9.2"
  }
 },
 "nbformat": 4,
 "nbformat_minor": 5
}
