{
 "cells": [
  {
   "cell_type": "code",
   "execution_count": 1,
   "id": "00ba725b",
   "metadata": {},
   "outputs": [
    {
     "data": {
      "text/plain": [
       "dict_keys(['data', 'target', 'frame', 'categories', 'feature_names', 'target_names', 'DESCR', 'details', 'url'])"
      ]
     },
     "execution_count": 1,
     "metadata": {},
     "output_type": "execute_result"
    }
   ],
   "source": [
    "from sklearn.datasets import fetch_openml\n",
    "\n",
    "mnist = fetch_openml(\"mnist_784\", version=1, cache = True, as_frame = False)\n",
    "mnist.keys()"
   ]
  },
  {
   "cell_type": "code",
   "execution_count": 2,
   "id": "85dd8f8d",
   "metadata": {},
   "outputs": [
    {
     "data": {
      "text/plain": [
       "(70000, 784)"
      ]
     },
     "execution_count": 2,
     "metadata": {},
     "output_type": "execute_result"
    }
   ],
   "source": [
    "X, y = mnist[\"data\"], mnist[\"target\"]\n",
    "X.shape\n",
    "# 784개의 특성을 가진 70000개의 이미지"
   ]
  },
  {
   "cell_type": "code",
   "execution_count": 3,
   "id": "f325aadb",
   "metadata": {},
   "outputs": [
    {
     "data": {
      "text/plain": [
       "(70000,)"
      ]
     },
     "execution_count": 3,
     "metadata": {},
     "output_type": "execute_result"
    }
   ],
   "source": [
    "y.shape\n",
    "# 70000개의 이미지 레이블"
   ]
  },
  {
   "cell_type": "code",
   "execution_count": 4,
   "id": "292f2d27",
   "metadata": {},
   "outputs": [
    {
     "data": {
      "image/png": "[encoded data removed]",
      "text/plain": [
       "<Figure size 432x288 with 1 Axes>"
      ]
     },
     "metadata": {
      "needs_background": "light"
     },
     "output_type": "display_data"
    }
   ],
   "source": [
    "%matplotlib inline\n",
    "import matplotlib as mpl\n",
    "import matplotlib.pyplot as plt\n",
    "\n",
    "some_digit = X[0]\n",
    "some_digit_image = some_digit.reshape(28,28) # 28*28 = 784\n",
    "\n",
    "plt.imshow(some_digit_image, cmap = \"binary\")\n",
    "plt.axis(\"off\")\n",
    "plt.show()"
   ]
  },
  {
   "cell_type": "code",
   "execution_count": 5,
   "id": "aba4dd37",
   "metadata": {},
   "outputs": [
    {
     "data": {
      "text/plain": [
       "'5'"
      ]
     },
     "execution_count": 5,
     "metadata": {},
     "output_type": "execute_result"
    }
   ],
   "source": [
    "y[0]"
   ]
  },
  {
   "cell_type": "code",
   "execution_count": 6,
   "id": "c57d6033",
   "metadata": {},
   "outputs": [],
   "source": [
    "import numpy as np\n",
    "\n",
    "y = y.astype(np.uint8)\n",
    "# 모든 타깃값을 문자에서 정수로 변환"
   ]
  },
  {
   "cell_type": "code",
   "execution_count": 7,
   "id": "d59848a3",
   "metadata": {},
   "outputs": [],
   "source": [
    "# 테스트세트와 훈련세트로 분리\n",
    "\n",
    "X_train, X_test, y_train, y_test = X[:60000], X[60000:], y[:60000], y[60000:]"
   ]
  },
  {
   "cell_type": "code",
   "execution_count": 8,
   "id": "f89de30c",
   "metadata": {},
   "outputs": [],
   "source": [
    "# 이진 분류기\n",
    "# 5인지 아닌지\n",
    "\n",
    "y_train_5 = (y_train == 5)\n",
    "y_test_5 = (y_test == 5)\n",
    "# 5이면 true, 아니면 false 반환"
   ]
  },
  {
   "cell_type": "code",
   "execution_count": 9,
   "id": "413b785d",
   "metadata": {},
   "outputs": [
    {
     "data": {
      "text/plain": [
       "SGDClassifier(random_state=42)"
      ]
     },
     "execution_count": 9,
     "metadata": {},
     "output_type": "execute_result"
    }
   ],
   "source": [
    "# 확률적 경사하강법으로 이진 분류기 만들기\n",
    "from sklearn.linear_model import SGDClassifier\n",
    "\n",
    "sgd_clf = SGDClassifier(random_state=42)\n",
    "sgd_clf.fit(X_train, y_train_5)"
   ]
  },
  {
   "cell_type": "code",
   "execution_count": 10,
   "id": "bf68b673",
   "metadata": {},
   "outputs": [
    {
     "data": {
      "text/plain": [
       "array([ True])"
      ]
     },
     "execution_count": 10,
     "metadata": {},
     "output_type": "execute_result"
    }
   ],
   "source": [
    "sgd_clf.predict([some_digit])"
   ]
  },
  {
   "cell_type": "code",
   "execution_count": 11,
   "id": "deacde40",
   "metadata": {},
   "outputs": [
    {
     "name": "stdout",
     "output_type": "stream",
     "text": [
      "0.9669\n",
      "0.91625\n",
      "0.96785\n"
     ]
    }
   ],
   "source": [
    "# 성능측정\n",
    "\n",
    "# 1. 교차 검증 구현해보기\n",
    "from sklearn.model_selection import StratifiedKFold\n",
    "from sklearn.base import clone\n",
    "\n",
    "skfolds = StratifiedKFold(n_splits=3, random_state=42, shuffle=True)\n",
    "# 섞어가면서 총 3번의 교차검증\n",
    "\n",
    "for train_index, test_index in skfolds.split(X_train, y_train_5):\n",
    "    clone_clf = clone(sgd_clf)\n",
    "    X_train_folds = X_train[train_index]\n",
    "    y_train_folds = y_train_5[train_index]\n",
    "    X_test_fold = X_train[test_index]\n",
    "    y_test_fold = y_train_5[test_index]\n",
    "    # 훈련세트 내부에서 훈련세트와 테스트 세트 나눔.\n",
    "    \n",
    "    clone_clf.fit(X_train_folds, y_train_folds) # 훈련\n",
    "    y_pred = clone_clf.predict(X_test_fold) # 테스트세트에 대한 예측\n",
    "    n_correct = sum(y_pred == y_test_fold) # 실제 레이블과 예측과 비교해서 같은 데이터의 수\n",
    "    print(n_correct / len(y_pred)) # 나누기 전체크기를 통해 정확하게 측정한 비율 출력"
   ]
  },
  {
   "cell_type": "code",
   "execution_count": 12,
   "id": "22c3bdbb",
   "metadata": {},
   "outputs": [
    {
     "data": {
      "text/plain": [
       "array([0.95035, 0.96035, 0.9604 ])"
      ]
     },
     "execution_count": 12,
     "metadata": {},
     "output_type": "execute_result"
    }
   ],
   "source": [
    "# 2. cross_val_score을 통한 교차검증\n",
    "\n",
    "from sklearn.model_selection import cross_val_score\n",
    "cross_val_score(sgd_clf, X_train, y_train_5, cv=3, scoring=\"accuracy\") # 기준은 정확도, 폴드 3개"
   ]
  },
  {
   "cell_type": "code",
   "execution_count": 13,
   "id": "d72b3771",
   "metadata": {},
   "outputs": [],
   "source": [
    "from sklearn.base import BaseEstimator\n",
    "\n",
    "class Never5Classifier(BaseEstimator):\n",
    "    def fit(self, X, y=None):\n",
    "        return self\n",
    "    def predict(self, X):\n",
    "        return np.zeros((len(X), 1), dtype=bool)"
   ]
  },
  {
   "cell_type": "raw",
   "id": "53979c4e",
   "metadata": {},
   "source": []
  },
  {
   "cell_type": "code",
   "execution_count": 14,
   "id": "5624a937",
   "metadata": {},
   "outputs": [
    {
     "data": {
      "text/plain": [
       "array([0.91125, 0.90855, 0.90915])"
      ]
     },
     "execution_count": 14,
     "metadata": {},
     "output_type": "execute_result"
    }
   ],
   "source": [
    "never_5_clf = Never5Classifier()\n",
    "cross_val_score(never_5_clf, X_train, y_train_5, cv=3, scoring=\"accuracy\")\n",
    "\n",
    "# 모두 90퍼센트의 확률을 넘음\n",
    "# 데이터가 5인 비율은 전체에서 90퍼센트임\n",
    "# 예를들어, 모든 데이터에 대해서 무조건 '5아님'이라고 예측시 항상 90퍼센트의 정확도를 가짐\n",
    "# 따라서, 정확도를 분류기의 성능측정지표로 사용하기에는 무리가 있음."
   ]
  },
  {
   "cell_type": "code",
   "execution_count": 15,
   "id": "58880481",
   "metadata": {},
   "outputs": [
    {
     "data": {
      "text/plain": [
       "array([[53892,   687],\n",
       "       [ 1891,  3530]])"
      ]
     },
     "execution_count": 15,
     "metadata": {},
     "output_type": "execute_result"
    }
   ],
   "source": [
    "# 3. 오차행렬을 활용한 성능 분석\n",
    "# 양성, 음성 데이터에 대해 정확하게 분류했는지 평가\n",
    "\n",
    "from sklearn.model_selection import cross_val_predict\n",
    "\n",
    "y_train_pred = cross_val_predict(sgd_clf, X_train, y_train_5, cv=3)\n",
    "\n",
    "from sklearn.metrics import confusion_matrix\n",
    "confusion_matrix(y_train_5, y_train_pred)"
   ]
  },
  {
   "cell_type": "code",
   "execution_count": 16,
   "id": "62267dd7",
   "metadata": {},
   "outputs": [
    {
     "data": {
      "text/plain": [
       "array([[54579,     0],\n",
       "       [    0,  5421]])"
      ]
     },
     "execution_count": 16,
     "metadata": {},
     "output_type": "execute_result"
    }
   ],
   "source": [
    "# 완벽한 분류기일 경우의 오차행렬\n",
    "\n",
    "y_train_perfect_predictions = y_train_5\n",
    "confusion_matrix(y_train_5, y_train_perfect_predictions)\n",
    "# 예측   5x.  5o\n",
    "# 데이터\n",
    "#   5x   1   2\n",
    "#   5o   3   4"
   ]
  },
  {
   "cell_type": "code",
   "execution_count": 17,
   "id": "8d3d0fe6",
   "metadata": {},
   "outputs": [],
   "source": [
    "# 1행 - 음성데이터(5가 아님), 2행 - 양성데이터\n",
    "# 1열 - 5가 아님으로 분류, 2열 - 5라고 분류\n",
    "# ex) 1행 1열 -> 5가 아닌 데이터를 5가 아니라고 분류\n",
    "\n",
    "# 정밀도 = 2행2열 / (2행2열 + 1행2열)\n",
    "# 재현율 = 2행2열 / (2행2열 + 2행1열)"
   ]
  },
  {
   "cell_type": "code",
   "execution_count": 18,
   "id": "5177c341",
   "metadata": {},
   "outputs": [
    {
     "data": {
      "text/plain": [
       "0.8370879772350012"
      ]
     },
     "execution_count": 18,
     "metadata": {},
     "output_type": "execute_result"
    }
   ],
   "source": [
    "# 정밀도와 재현율 측정\n",
    "\n",
    "from sklearn.metrics import precision_score, recall_score\n",
    "# 정밀도 측정\n",
    "# 4 / 4 + 2\n",
    "\n",
    "precision_score(y_train_5, y_train_pred)"
   ]
  },
  {
   "cell_type": "code",
   "execution_count": 19,
   "id": "2a6a8ed2",
   "metadata": {},
   "outputs": [
    {
     "data": {
      "text/plain": [
       "0.6511713705958311"
      ]
     },
     "execution_count": 19,
     "metadata": {},
     "output_type": "execute_result"
    }
   ],
   "source": [
    "# 재현율 측정\n",
    "# 4 / 4 + 3\n",
    "recall_score(y_train_5, y_train_pred)"
   ]
  },
  {
   "cell_type": "code",
   "execution_count": 20,
   "id": "04b090e6",
   "metadata": {},
   "outputs": [
    {
     "data": {
      "text/plain": [
       "0.7325171197343846"
      ]
     },
     "execution_count": 20,
     "metadata": {},
     "output_type": "execute_result"
    }
   ],
   "source": [
    "# 정밀도와 재현율을 합친 F1 점수 측정\n",
    "# 2*(정밀도*재현율)/(정밀도+재현율)\n",
    "# 정밀도와 재현율은 서로 트레이드오프 관게임.\n",
    "\n",
    "from sklearn.metrics import f1_score\n",
    "f1_score(y_train_5, y_train_pred)"
   ]
  },
  {
   "cell_type": "code",
   "execution_count": 21,
   "id": "950222d5",
   "metadata": {},
   "outputs": [
    {
     "data": {
      "text/plain": [
       "array([2164.22030239])"
      ]
     },
     "execution_count": 21,
     "metadata": {},
     "output_type": "execute_result"
    }
   ],
   "source": [
    "# SGD분류기의 분류 원리인 임계값(분류의 기준)을 통한 정밀도와 재현율 조정\n",
    "# decision_function 결정함수를 통해 샘플의 점수를 계산\n",
    "# 결정함수의 점수가 임계갑보다 크면 샘플을 양성으로 할당, 아니면 음성으로 할당\n",
    "\n",
    "y_scores = sgd_clf.decision_function([some_digit])\n",
    "y_scores # 점수"
   ]
  },
  {
   "cell_type": "code",
   "execution_count": 22,
   "id": "304490a2",
   "metadata": {},
   "outputs": [
    {
     "data": {
      "text/plain": [
       "array([ True])"
      ]
     },
     "execution_count": 22,
     "metadata": {},
     "output_type": "execute_result"
    }
   ],
   "source": [
    "threshold = 0 # 임계값을 0으로 지정\n",
    "y_some_digit_pred = (y_scores > threshold) # 임계값과 결정함수의 점수 비교\n",
    "y_some_digit_pred # 점수가 임계값보다 크므로 5라고 인지"
   ]
  },
  {
   "cell_type": "code",
   "execution_count": 23,
   "id": "e1af92f3",
   "metadata": {},
   "outputs": [
    {
     "data": {
      "text/plain": [
       "array([False])"
      ]
     },
     "execution_count": 23,
     "metadata": {},
     "output_type": "execute_result"
    }
   ],
   "source": [
    "threshold = 8000\n",
    "y_some_digit_pred = (y_scores > threshold)\n",
    "y_some_digit_pred # 임계값이 점수보다 높아지면 5라고 인식하지 않음"
   ]
  },
  {
   "cell_type": "code",
   "execution_count": 24,
   "id": "c7900908",
   "metadata": {},
   "outputs": [],
   "source": [
    "# 적절한 임계값을 찾기 위해 샘플에 대한 결정점수 반환\n",
    "\n",
    "y_scores = cross_val_predict(sgd_clf, X_train, y_train_5, cv=3, method=\"decision_function\")"
   ]
  },
  {
   "cell_type": "code",
   "execution_count": 25,
   "id": "69b5bbf2",
   "metadata": {},
   "outputs": [],
   "source": [
    "from sklearn.metrics import precision_recall_curve\n",
    "# 정밀도와 재현율 그리고 임계값과 결정함수를 비교하기 위한 함수\n",
    "\n",
    "# 정밀도, 재현율, 임계값\n",
    "precisions, recalls, thresholds = precision_recall_curve(y_train_5, y_scores)"
   ]
  },
  {
   "cell_type": "code",
   "execution_count": 26,
   "id": "169e2700",
   "metadata": {},
   "outputs": [
    {
     "data": {
      "image/png": "[encoded data removed]",
      "text/plain": [
       "<Figure size 432x288 with 1 Axes>"
      ]
     },
     "metadata": {
      "needs_background": "light"
     },
     "output_type": "display_data"
    }
   ],
   "source": [
    "# 임계값에 따른 정밀도와 재현율\n",
    "\n",
    "def plot_decision_recall_vs_threshold(precisions, recalls, thresholds):\n",
    "    plt.plot(thresholds, precisions[:-1], \"b--\", label=\"정밀도\")\n",
    "    plt.plot(thresholds, recalls[:-1], \"g-\", label=\"재현율\")\n",
    "    \n",
    "plot_decision_recall_vs_threshold(precisions, recalls, thresholds)\n",
    "plt.show()\n",
    "# 파란색 점선 - 정밀도, \n",
    "# 초록색 실선 - 재현율, \n",
    "# x축 - 임계값\n",
    "\n",
    "# 그래프 해석\n",
    "# 임계값이 커질수록 정밀도는 커지고 재현율은 작아짐"
   ]
  },
  {
   "cell_type": "markdown",
   "id": "15e8491e",
   "metadata": {},
   "source": []
  },
  {
   "cell_type": "code",
   "execution_count": 27,
   "id": "12d9de10",
   "metadata": {},
   "outputs": [
    {
     "data": {
      "image/png": "[encoded data removed]",
      "text/plain": [
       "<Figure size 432x288 with 1 Axes>"
      ]
     },
     "metadata": {
      "needs_background": "light"
     },
     "output_type": "display_data"
    }
   ],
   "source": [
    "plt.plot(recalls[:-1], precisions[:-1]) \n",
    "plt.show()\n",
    "# 정밀도와 재현율 트레이드오프 그래프"
   ]
  },
  {
   "cell_type": "code",
   "execution_count": 28,
   "id": "dfc04e99",
   "metadata": {},
   "outputs": [],
   "source": [
    "# 예를 들어, 정밀도가 적어도 90 이상인 분류기 설정\n",
    "\n",
    "threshold_90_precision = thresholds[np.argmax(precisions >= 0.90)] # 정밀도가 90 이상일때 임계값\n",
    "\n",
    "y_train_pred_90 = (y_scores >= threshold_90_precision)"
   ]
  },
  {
   "cell_type": "code",
   "execution_count": 29,
   "id": "449c36bb",
   "metadata": {},
   "outputs": [
    {
     "data": {
      "text/plain": [
       "0.9000345901072293"
      ]
     },
     "execution_count": 29,
     "metadata": {},
     "output_type": "execute_result"
    }
   ],
   "source": [
    "precision_score(y_train_5, y_train_pred_90)\n",
    "# 최소 90을 넘을때 정밀도"
   ]
  },
  {
   "cell_type": "code",
   "execution_count": 30,
   "id": "22f1e42b",
   "metadata": {},
   "outputs": [
    {
     "data": {
      "text/plain": [
       "0.4799852425751706"
      ]
     },
     "execution_count": 30,
     "metadata": {},
     "output_type": "execute_result"
    }
   ],
   "source": [
    "recall_score(y_train_5, y_train_pred_90)\n",
    "# 정밀도가 최소 90일때 재현율"
   ]
  },
  {
   "cell_type": "code",
   "execution_count": 31,
   "id": "650bef10",
   "metadata": {},
   "outputs": [],
   "source": [
    "# 4. ROC 곡선을 통한 성능측정\n",
    "\n",
    "from sklearn.metrics import roc_curve\n",
    "\n",
    "fpr, tpr, thresholds = roc_curve(y_train_5, y_scores)"
   ]
  },
  {
   "cell_type": "code",
   "execution_count": 32,
   "id": "20739833",
   "metadata": {},
   "outputs": [
    {
     "data": {
      "image/png": "[encoded data removed]",
      "text/plain": [
       "<Figure size 432x288 with 1 Axes>"
      ]
     },
     "metadata": {
      "needs_background": "light"
     },
     "output_type": "display_data"
    }
   ],
   "source": [
    "def plot_roc_curve(fpr, tpr, label=None):\n",
    "    plt.plot(fpr, tpr, linewidth=2, label=label)\n",
    "    plt.plot([0,1], [0,1], 'k--')\n",
    "    \n",
    "plot_roc_curve(fpr, tpr)\n",
    "plt.show()\n",
    "# x축 - 거짓 양성 비율, y축 - 진짜 양성 비율(재현율)\n",
    "# 점선 - 완전한 랜덤 분류기의 ROC 곡선\n",
    "# 좋은 분류기는 점선과 최대한 왼쪽 위 모서리로 떨어져있어야 함."
   ]
  },
  {
   "cell_type": "code",
   "execution_count": 33,
   "id": "6f846b73",
   "metadata": {},
   "outputs": [
    {
     "data": {
      "text/plain": [
       "0.9604938554008616"
      ]
     },
     "execution_count": 33,
     "metadata": {},
     "output_type": "execute_result"
    }
   ],
   "source": [
    "# AUC(곡선 아래의 면적) 측정\n",
    "# AUC가 0.5면 완전 랜덤 분류기\n",
    "# 1이면 완벽한 분류기\n",
    "\n",
    "from sklearn.metrics import roc_auc_score\n",
    "roc_auc_score(y_train_5, y_scores)"
   ]
  },
  {
   "cell_type": "code",
   "execution_count": 34,
   "id": "752ab604",
   "metadata": {},
   "outputs": [],
   "source": [
    "# 랜덤 포레스트 분류기와 SGD 분류기 ROC 곡선 비교\n",
    "\n",
    "from sklearn.ensemble import RandomForestClassifier\n",
    "\n",
    "forest_clf = RandomForestClassifier(random_state = 42)\n",
    "y_probas_forest = cross_val_predict(forest_clf, X_train, y_train_5, cv=3, method = \"predict_proba\")"
   ]
  },
  {
   "cell_type": "raw",
   "id": "7d0060a3",
   "metadata": {},
   "source": []
  },
  {
   "cell_type": "code",
   "execution_count": 35,
   "id": "1acb3b63",
   "metadata": {},
   "outputs": [],
   "source": [
    "y_scores_forest = y_probas_forest[:, 1]\n",
    "fpr_forest, tpr_forest, thresholds_forest = roc_curve(y_train_5, y_scores_forest)"
   ]
  },
  {
   "cell_type": "code",
   "execution_count": 36,
   "id": "493f5cfe",
   "metadata": {},
   "outputs": [
    {
     "data": {
      "image/png": "[encoded data removed]",
      "text/plain": [
       "<Figure size 432x288 with 1 Axes>"
      ]
     },
     "metadata": {
      "needs_background": "light"
     },
     "output_type": "display_data"
    }
   ],
   "source": [
    "plt.plot(fpr, tpr, \"b:\", label = \"SGD\")\n",
    "plot_roc_curve(fpr_forest, tpr_forest, \"Random Forest\")\n",
    "plt.legend(loc = \"lower right\")\n",
    "plt.show()\n",
    "# ROC 곡선은 랜덤포레스트가 더 좋음."
   ]
  },
  {
   "cell_type": "code",
   "execution_count": 37,
   "id": "18291f74",
   "metadata": {},
   "outputs": [
    {
     "data": {
      "text/plain": [
       "0.9983436731328145"
      ]
     },
     "execution_count": 37,
     "metadata": {},
     "output_type": "execute_result"
    }
   ],
   "source": [
    "# AUC 측정\n",
    "\n",
    "roc_auc_score(y_train_5, y_scores_forest)\n",
    "# AUC 점수도 랜덤 포레스트가 더 좋음\n",
    "# SGD는 0.96이였음"
   ]
  },
  {
   "cell_type": "code",
   "execution_count": 38,
   "id": "ef988663",
   "metadata": {},
   "outputs": [
    {
     "data": {
      "text/plain": [
       "array([5], dtype=uint8)"
      ]
     },
     "execution_count": 38,
     "metadata": {},
     "output_type": "execute_result"
    }
   ],
   "source": [
    "# 다중 분류\n",
    "# 방법1 - 자체적으로 다중분류 -> SGD 분류기, 랜덤포레스트 분류기, 나이브 베이즈 등\n",
    "# 방법2 - 이진분류기가 OvR 또는 OvO를 활용하여 분류 -> 로지스틱 회귀, 서포트 벡터 머신 분류기\n",
    "# OVR - 특정 숫자 하나만 구분하는 숫자별 이진 분류기 여러개를 훈련시켜 클래스 분류\n",
    "# 객체와 전체간의 분류\n",
    "# OVO - 0과1구별, 0과2구별 등과 같이 각 숫자의 조합마다 이진분류기를 훈련시키는 방식\n",
    "# 객체와 객체간의 분류\n",
    "\n",
    "# 1. 서포트 벡터 머신 분류기(OvR, OvO 자동 선택)\n",
    "from sklearn.svm import SVC\n",
    "svm_clf = SVC()\n",
    "svm_clf.fit(X_train, y_train)\n",
    "svm_clf.predict([some_digit])"
   ]
  },
  {
   "cell_type": "code",
   "execution_count": 39,
   "id": "3786731b",
   "metadata": {},
   "outputs": [
    {
     "data": {
      "text/plain": [
       "array([[ 1.72501977,  2.72809088,  7.2510018 ,  8.3076379 , -0.31087254,\n",
       "         9.3132482 ,  1.70975103,  2.76765202,  6.23049537,  4.84771048]])"
      ]
     },
     "execution_count": 39,
     "metadata": {},
     "output_type": "execute_result"
    }
   ],
   "source": [
    "# 해당 사진이 클래스 '5'일 점수 출력\n",
    "# 다중뷴류의 decision_function은 각 레이블에 대한 점수를 반환\n",
    "some_digit_scores = svm_clf.decision_function([some_digit])\n",
    "some_digit_scores"
   ]
  },
  {
   "cell_type": "code",
   "execution_count": 40,
   "id": "6bf54e53",
   "metadata": {},
   "outputs": [
    {
     "data": {
      "text/plain": [
       "5"
      ]
     },
     "execution_count": 40,
     "metadata": {},
     "output_type": "execute_result"
    }
   ],
   "source": [
    "np.argmax(some_digit_scores) # some_digit_scores 중 최고 점수를 받은 클래스"
   ]
  },
  {
   "cell_type": "code",
   "execution_count": 41,
   "id": "f18f4e46",
   "metadata": {},
   "outputs": [
    {
     "data": {
      "text/plain": [
       "array([0, 1, 2, 3, 4, 5, 6, 7, 8, 9], dtype=uint8)"
      ]
     },
     "execution_count": 41,
     "metadata": {},
     "output_type": "execute_result"
    }
   ],
   "source": [
    "svm_clf.classes_ # 서포트 벡터 머신 분류기의 타깃들"
   ]
  },
  {
   "cell_type": "code",
   "execution_count": 42,
   "id": "3b8d0dea",
   "metadata": {},
   "outputs": [
    {
     "data": {
      "text/plain": [
       "5"
      ]
     },
     "execution_count": 42,
     "metadata": {},
     "output_type": "execute_result"
    }
   ],
   "source": [
    "svm_clf.classes_[5]"
   ]
  },
  {
   "cell_type": "code",
   "execution_count": null,
   "id": "abc101fc",
   "metadata": {},
   "outputs": [],
   "source": [
    "# 2. 서포트 벡터 머신 분류기(OvR, OvO 선택적 사용)\n",
    "# OneVsOneClassifier, OneVsRestClassifier\n",
    "# 오래 걸림\n",
    "\n",
    "# OvR 선택\n",
    "from sklearn.multiclass import OneVsRestClassifier\n",
    "ovr_clf = OneVsRestClassifier(SVC())\n",
    "ovr_clf.fit(X_train, y_train)\n",
    "ovr_clf.predict([some_digit])"
   ]
  },
  {
   "cell_type": "code",
   "execution_count": null,
   "id": "71bbf01a",
   "metadata": {},
   "outputs": [],
   "source": [
    "len(ovr_clf.estimators_) # 클래스 수"
   ]
  },
  {
   "cell_type": "code",
   "execution_count": null,
   "id": "c25c1ad3",
   "metadata": {},
   "outputs": [],
   "source": [
    "# 3. SGD 분류기로 다중 분류\n",
    "sgd_clf.fit(X_train, y_train)\n",
    "sgd_clf.predict([some_digit])"
   ]
  },
  {
   "cell_type": "code",
   "execution_count": null,
   "id": "a548343d",
   "metadata": {},
   "outputs": [],
   "source": [
    "sgd_clf.decision_function([some_digit]) # 3일 확률이 가장 높음"
   ]
  },
  {
   "cell_type": "code",
   "execution_count": null,
   "id": "e5778377",
   "metadata": {},
   "outputs": [],
   "source": [
    "# 교차검증을 통한 sgd 정확도 평가\n",
    "cross_val_score(sgd_clf, X_train, y_train, cv=3, scoring=\"accuracy\")"
   ]
  },
  {
   "cell_type": "code",
   "execution_count": null,
   "id": "c1d8a673",
   "metadata": {},
   "outputs": [],
   "source": [
    "# 정확도를 올리기 위해 스케일링(데이터 전처리)\n",
    "from sklearn.preprocessing import StandardScaler\n",
    "scaler = StandardScaler()\n",
    "X_train_scaled = scaler.fit_transform(X_train.astype(np.float64))\n",
    "cross_val_score(sgd_clf, X_train_scaled, y_train, cv=3, scoring=\"accuracy\")"
   ]
  },
  {
   "cell_type": "code",
   "execution_count": null,
   "id": "cfa045ea",
   "metadata": {},
   "outputs": [],
   "source": [
    "# 성능향상을 위한 에러 분석\n",
    "\n",
    "y_train_pred = cross_val_predict(sgd_clf, X_train_scaled, y_train, cv=3)\n",
    "conf_mx = confusion_matrix(y_train, y_train_pred)\n",
    "conf_mx # 레이블 당 분류된 레이블 ex) 1행 3열 -> 0이 2로 22개가 분류됨."
   ]
  },
  {
   "cell_type": "code",
   "execution_count": null,
   "id": "a3ef9b21",
   "metadata": {},
   "outputs": [],
   "source": [
    "# 오차행렬을 그림으로 나타내기\n",
    "# 대각선이 밝을 수록 잘 분류됨을 의미\n",
    "\n",
    "plt.matshow(conf_mx, cmap=plt.cm.gray)\n",
    "plt.show()"
   ]
  },
  {
   "cell_type": "code",
   "execution_count": null,
   "id": "636ae24d",
   "metadata": {},
   "outputs": [],
   "source": [
    "# 에러에 초점을 맞추어 오차행렬 나타내기\n",
    "# 밝을수록 잘못 분류됨.\n",
    "\n",
    "row_sums = conf_mx.sum(axis=1, keepdims=True)\n",
    "norm_conf_mx = conf_mx / row_sums\n",
    "\n",
    "np.fill_diagonal(norm_conf_mx, 0)\n",
    "plt.matshow(norm_conf_mx, cmap=plt.cm.gray)\n",
    "plt.show()\n",
    "# 3과 5에서 문제점이 많아보임"
   ]
  },
  {
   "cell_type": "code",
   "execution_count": null,
   "id": "5fb7c3d4",
   "metadata": {},
   "outputs": [],
   "source": [
    "# 3과 5에 초점을 맞추어 에러 분석    \n",
    "\n",
    "# plot_digits() 함수\n",
    "def plot_digits(instances, images_per_rows): \n",
    "    # **options = 가변 키워드 인수(얼마든지 많은 옵션을 포함할 수 있음)\n",
    "    size = 28\n",
    "    images_per_row = min(len(instances), images_per_rows)\n",
    "    images = [instance.reshape(size, size) for instance in instances]\n",
    "    n_rows = (len(instances) - 1) // images_per_row + 1\n",
    "    row_images = []\n",
    "    n_empty = n_rows * images_per_row - len(instances)\n",
    "    images.append(np.zeros((size, size * n_empty)))\n",
    "    for row in range(n_rows):\n",
    "        rimages = images[row * images_per_row: (row + 1) * images_per_row]\n",
    "        row_images.append(np.concatenate(rimages, axis=1))\n",
    "    image = np.concatenate(row_images, axis=0)\n",
    "    plt.imshow(image, cmap=mpl.cm.binary)\n",
    "    plt.axis(\"off\")\n",
    "    \n",
    "\n",
    "cl_a, cl_b = 3, 5\n",
    "X_aa = X_train[(y_train == cl_a) & (y_train_pred == cl_a)]\n",
    "X_ab = X_train[(y_train == cl_a) & (y_train_pred == cl_b)]\n",
    "X_ba = X_train[(y_train == cl_b) & (y_train_pred == cl_a)]\n",
    "X_bb = X_train[(y_train == cl_b) & (y_train_pred == cl_b)]\n",
    "\n",
    "plt.figure(figsize=(8,8))\n",
    "plt.subplot(221); plot_digits(X_aa[:25], images_per_rows=5)\n",
    "plt.subplot(222); plot_digits(X_ab[:25], images_per_rows=5)\n",
    "plt.subplot(223); plot_digits(X_ba[:25], images_per_rows=5)\n",
    "plt.subplot(224); plot_digits(X_bb[:25], images_per_rows=5)\n",
    "plt.show()\n",
    "\n",
    "# 고찰\n",
    "# SGD 분류기는 클래스마다 픽셀의 가중치를 할당하고 새로운 이미지에 대해 단순히 픽셀강도의 가중치 합을 클래스의 점수로 계산\n",
    "# 따라서 3과 5는 몇개의 픽셀만 다르기에 혼동하기 쉬움\n",
    "# 3과 5의 주요차이는 위쪽 선과 아래쪽 호를 이어주는 작은 직선의 위치이다.\n",
    "# 분류기는 이미지의 위치와 회전방향에 매우 민감 -> 이미지를 중앙에 위치시키고 회전되어 있지않도록 설정함으로써 성능 향상 가능"
   ]
  },
  {
   "cell_type": "code",
   "execution_count": null,
   "id": "2bc195f2",
   "metadata": {},
   "outputs": [],
   "source": [
    "# 다중 레이블 분류\n",
    "# 결과에 두가지 이상의 레이블 표현\n",
    "\n",
    "from sklearn.neighbors import KNeighborsClassifier\n",
    "y_train_large = (y_train >= 7) # 7보다 큰 수\n",
    "y_train_odd = (y_train % 2 == 1) # 홀수\n",
    "y_multilabel = np.c_[y_train_large, y_train_odd]\n",
    "\n",
    "knn_clf = KNeighborsClassifier()\n",
    "knn_clf.fit(X_train, y_multilabel)"
   ]
  },
  {
   "cell_type": "code",
   "execution_count": null,
   "id": "ef8a8066",
   "metadata": {},
   "outputs": [],
   "source": [
    "knn_clf.predict([some_digit])"
   ]
  },
  {
   "cell_type": "code",
   "execution_count": null,
   "id": "82d3f9ed",
   "metadata": {},
   "outputs": [],
   "source": [
    "# 다중 레이블 분류기 평가\n",
    "# F1 점수 활용\n",
    "\n",
    "y_train_knn_pred = cross_val_predict(knn_clf, X_train, y_multilabel, cv=3)\n",
    "f1_score(y_multilabel, y_train_knn_pred, average = \"macro\")\n",
    "# 가중치를 고려해서 점수 출력시 average=\"weighted\"로 설정"
   ]
  },
  {
   "cell_type": "code",
   "execution_count": null,
   "id": "a6655e63",
   "metadata": {},
   "outputs": [],
   "source": [
    "# 다중 출력 분류\n",
    "# ex - 사진을 픽셀로\n",
    "# ex - 사진에서 잡음 제거\n",
    "\n",
    "\n",
    "noise = np.random.randint(0, 100, (len(X_train), 784)) # 잡음 설정\n",
    "X_train_mod = X_train + noise # 잡음 추가\n",
    "noise = np.random.randint(0, 100, (len(X_test), 784)) # 잡음 설정\n",
    "X_test_mod = X_test + noise # 잡음 추가\n",
    "y_train_mod = X_train\n",
    "y_test_mod = X_test"
   ]
  },
  {
   "cell_type": "code",
   "execution_count": null,
   "id": "00eef1b9",
   "metadata": {},
   "outputs": [],
   "source": [
    "# 잡음이 추가된 사진\n",
    "\n",
    "some_index = 4\n",
    "\n",
    "plt.imshow(X_test_mod[some_index].reshape(28, 28), cmap = \"binary\")\n",
    "plt.axis(\"off\")\n",
    "plt.show()"
   ]
  },
  {
   "cell_type": "code",
   "execution_count": null,
   "id": "37408b04",
   "metadata": {},
   "outputs": [],
   "source": [
    "# 원본\n",
    "\n",
    "plt.imshow(X_test[some_index].reshape(28, 28), cmap = \"binary\")\n",
    "plt.axis(\"off\")\n",
    "plt.show()"
   ]
  },
  {
   "cell_type": "code",
   "execution_count": null,
   "id": "85f61bca",
   "metadata": {},
   "outputs": [],
   "source": [
    "# 분류기를 통해 잡음 제거된 사진\n",
    "\n",
    "knn_clf.fit(X_train_mod, y_train_mod)\n",
    "clean_digit = knn_clf.predict([X_test_mod[some_index]])\n",
    "\n",
    "plt.imshow(clean_digit.reshape(28, 28), cmap = \"binary\")\n",
    "plt.axis(\"off\")\n",
    "plt.show()"
   ]
  },
  {
   "cell_type": "code",
   "execution_count": null,
   "id": "8daac7e0",
   "metadata": {},
   "outputs": [],
   "source": [
    "# 연습문제 1\n",
    "# MNIST 데이터셋으로 분류기를 만들어 테스트 세트에서 97% 정확도를 달성해보세요. 힌트 : KNeighborsClassifier가 이 작업에 아주 잘맞습니다. \n",
    "# 좋은 하이퍼파라미터를 찾으면 됩니다(weights와 n_neighbors 하이퍼파라미터로 그리드 탐색을 시도해보세요)\n",
    "# 오래걸림\n",
    "# 항상 그리드 서치는 최적의 파라미터를 찾기위한 도구이자 모델이라고 생각\n",
    "# cross_val_score와 구별\n",
    "\n",
    "from sklearn.model_selection import GridSearchCV\n",
    "\n",
    "param_grid = [{'weights': [\"uniform\", \"distance\"], 'n_neighbors': [3, 4, 5]}]\n",
    "# 형식 -> [{\"param1\" : [\"a\", \"b\"], \"param2\" : [\"1\", \"2\"]}]\n",
    "\n",
    "knn_clf = KNeighborsClassifier()\n",
    "grid_search = GridSearchCV(knn_clf, param_grid, cv=5, verbose=3)\n",
    "# 모델, params, cv-폴드수, verbose-메시지 출력여부(숫자가 커질수록 더 세밀한 메시지)\n",
    "\n",
    "grid_search.fit(X_train, y_train) # 훈련\n",
    "grid_search.best_params_ # 최적의 하이퍼 파라미터\n",
    "grid_search.best_score_ # 최적의 하이퍼 파라미터의 점수\n",
    "\n",
    "from sklearn.metrics import accuracy_score\n",
    "y_pred = grid_search.predict(X_test) # 테스트세트에 대한 그리드 탐색모델의 예측\n",
    "accuracy_score(y_test, y_pred) # 정확도"
   ]
  },
  {
   "cell_type": "code",
   "execution_count": 12,
   "id": "89a17e5f",
   "metadata": {},
   "outputs": [
    {
     "data": {
      "text/plain": [
       "(350000, 784)"
      ]
     },
     "execution_count": 12,
     "metadata": {},
     "output_type": "execute_result"
    }
   ],
   "source": [
    "# 연습문제 2\n",
    "# 1. MNIST 이미지를 (왼, 오, 위, 아) 어느 방향으로든 한 픽셀 이동시킬 수 있는 함수를 만들어보세요. \n",
    "# 2. 그런 다음 훈련세트에 있는 각 이미지에 대해 네 개의 이동된 복사본(방향마다 한개씩)을 만들어 훈련세트에 추가하세요 \n",
    "# 3. 마지막으로 이 확장된 데이터셋에서 앞에서 찾은 최선의 모델을 훈련시키고 테스트 세트에서 정확도를 측정해보세요 모델 성능이 더 높아졌는지 확인해보세요! \n",
    "# (인위적으로 훈련세트를 늘리는 이 기법은 데이터 증식 또는 훈련세트 확장이라고 합니다)\n",
    "\n",
    "# 위의 데이터만 추출하면 실행가능, 전체실행 x\n",
    "# 1, 2\n",
    "%matplotlib inline\n",
    "import matplotlib as mpl\n",
    "import matplotlib.pyplot as plt\n",
    "import numpy as np\n",
    "\n",
    "\n",
    "def move_direction(X, direction):\n",
    "    if direction == \"left\":\n",
    "        X = X.reshape(70000, 28, 28)\n",
    "        omit_left = X[:, :, 2:]\n",
    "        shift_thing = X[:, :, :2]\n",
    "        left = np.concatenate((omit_left, shift_thing), axis=2)\n",
    "        return left\n",
    "        \n",
    "    if direction == \"right\":\n",
    "        X = X.reshape(70000, 28, 28)\n",
    "        omit_right = X[:, :, :-2]\n",
    "        shift_thing = X[:, :, -2:]\n",
    "        right = np.concatenate((shift_thing, omit_right), axis=2)\n",
    "        return right\n",
    "    \n",
    "    if direction == \"down\":\n",
    "        X = X.reshape(70000, 28, 28)\n",
    "        omit_down = X[:, :-2, :]\n",
    "        shift_thing = X[:, -2:, :]\n",
    "        down = np.concatenate((shift_thing, omit_down), axis=1)\n",
    "        return down\n",
    "    \n",
    "    if direction == \"up\":\n",
    "        X = X.reshape(70000, 28, 28)\n",
    "        omit_up = X[:, 2:, :]\n",
    "        shift_thing = X[:, :2, :]\n",
    "        up = np.concatenate((omit_up, shift_thing), axis=1)\n",
    "        return up\n",
    "\n",
    "\n",
    "left = move_direction(X, \"left\").reshape(70000, 784)\n",
    "right = move_direction(X, \"right\").reshape(70000, 784)\n",
    "down = move_direction(X, \"down\").reshape(70000, 784)\n",
    "up = move_direction(X, \"up\").reshape(70000, 784)\n",
    "final = np.concatenate((X, left, right, up, down), axis=0)"
   ]
  },
  {
   "cell_type": "code",
   "execution_count": null,
   "id": "31db0abc",
   "metadata": {},
   "outputs": [],
   "source": [
    "# 연습문제 4"
   ]
  },
  {
   "cell_type": "code",
   "execution_count": 3,
   "id": "4bc6edfc",
   "metadata": {},
   "outputs": [],
   "source": [
    "import os\n",
    "import tarfile\n",
    "import urllib.request\n",
    "\n",
    "DOWNLOAD_ROOT = \"http://spamassassin.apache.org/old/publiccorpus/\"\n",
    "HAM_URL = DOWNLOAD_ROOT + \"20030228_easy_ham.tar.bz2\"\n",
    "SPAM_URL = DOWNLOAD_ROOT + \"20030228_spam.tar.bz2\"\n",
    "SPAM_PATH = os.path.join(\"datasets\", \"spam\")\n",
    "\n",
    "def fetch_spam_data(ham_url=HAM_URL, spam_url=SPAM_URL, spam_path=SPAM_PATH):\n",
    "    if not os.path.isdir(spam_path):\n",
    "        os.makedirs(spam_path)\n",
    "    for filename, url in ((\"ham.tar.bz2\", ham_url), (\"spam.tar.bz2\", spam_url)):\n",
    "        path = os.path.join(spam_path, filename)\n",
    "        if not os.path.isfile(path):\n",
    "            urllib.request.urlretrieve(url, path)\n",
    "        tar_bz2_file = tarfile.open(path)\n",
    "        tar_bz2_file.extractall(path=spam_path)\n",
    "        tar_bz2_file.close()"
   ]
  },
  {
   "cell_type": "code",
   "execution_count": 4,
   "id": "ccb1b34a",
   "metadata": {},
   "outputs": [],
   "source": [
    "fetch_spam_data()"
   ]
  },
  {
   "cell_type": "code",
   "execution_count": 5,
   "id": "6f8c38a0",
   "metadata": {},
   "outputs": [],
   "source": [
    "HAM_DIR = os.path.join(SPAM_PATH, \"easy_ham\")\n",
    "SPAM_DIR = os.path.join(SPAM_PATH, \"spam\")\n",
    "\n",
    "# 파일네임 불러오기\n",
    "ham_filenames = [name for name in sorted(os.listdir(HAM_DIR)) if len(name) > 20]\n",
    "spam_filenames = [name for name in sorted(os.listdir(SPAM_DIR)) if len(name) > 20]"
   ]
  },
  {
   "cell_type": "code",
   "execution_count": 6,
   "id": "d7d7377b",
   "metadata": {},
   "outputs": [
    {
     "data": {
      "text/plain": [
       "2500"
      ]
     },
     "execution_count": 6,
     "metadata": {},
     "output_type": "execute_result"
    }
   ],
   "source": [
    "len(ham_filenames)"
   ]
  },
  {
   "cell_type": "code",
   "execution_count": 7,
   "id": "8b674e36",
   "metadata": {},
   "outputs": [
    {
     "data": {
      "text/plain": [
       "500"
      ]
     },
     "execution_count": 7,
     "metadata": {},
     "output_type": "execute_result"
    }
   ],
   "source": [
    "len(spam_filenames)"
   ]
  },
  {
   "cell_type": "code",
   "execution_count": 8,
   "id": "ad4383cc",
   "metadata": {},
   "outputs": [
    {
     "data": {
      "text/plain": [
       "['00001.7c53336b37003a9286aba55d2945844c',\n",
       " '00002.9c4069e25e1ef370c078db7ee85ff9ac',\n",
       " '00003.860e3c3cee1b42ead714c5c874fe25f7',\n",
       " '00004.864220c5b6930b209cc287c361c99af1',\n",
       " '00005.bf27cdeaf0b8c4647ecd61b1d09da613']"
      ]
     },
     "execution_count": 8,
     "metadata": {},
     "output_type": "execute_result"
    }
   ],
   "source": [
    "ham_filenames[:5]"
   ]
  },
  {
   "cell_type": "code",
   "execution_count": 9,
   "id": "f805b591",
   "metadata": {},
   "outputs": [],
   "source": [
    "import email\n",
    "import email.policy\n",
    "\n",
    "def load_email(is_spam, filename, spam_path=SPAM_PATH):\n",
    "    # 스팸여부, 파일이름, 스팸경로(위에서 확인가능)\n",
    "    directory = \"spam\" if is_spam else \"easy_ham\"\n",
    "    # 디렉토리명을 스팸일경우 spam, 스팸이 아닐경우 easy_ham으로 지정\n",
    "    with open(os.path.join(spam_path, directory, filename), \"rb\") as f:\n",
    "        return email.parser.BytesParser(policy=email.policy.default).parse(f)"
   ]
  },
  {
   "cell_type": "code",
   "execution_count": 10,
   "id": "7048db3d",
   "metadata": {},
   "outputs": [],
   "source": [
    "ham_emails = [load_email(is_spam=False, filename=name) for name in ham_filenames]\n",
    "# 스팸파일이 아님, 스팸파일이 아닌 파일 중 하나씩 함수 돌림\n",
    "spam_emails = [load_email(is_spam=True, filename=name) for name in spam_filenames]\n",
    "# 스팸파일임, 스팸파일을 하나씩 함수에 돌림"
   ]
  },
  {
   "cell_type": "code",
   "execution_count": 11,
   "id": "f58d45e9",
   "metadata": {},
   "outputs": [
    {
     "name": "stdout",
     "output_type": "stream",
     "text": [
      "Martin A posted:\n",
      "Tassos Papadopoulos, the Greek sculptor behind the plan, judged that the\n",
      " limestone of Mount Kerdylio, 70 miles east of Salonika and not far from the\n",
      " Mount Athos monastic community, was ideal for the patriotic sculpture. \n",
      " \n",
      " As well as Alexander's granite features, 240 ft high and 170 ft wide, a\n",
      " museum, a restored amphitheatre and car park for admiring crowds are\n",
      "planned\n",
      "---------------------\n",
      "So is this mountain limestone or granite?\n",
      "If it's limestone, it'll weather pretty fast.\n",
      "\n",
      "------------------------ Yahoo! Groups Sponsor ---------------------~-->\n",
      "4 DVDs Free +s&p Join Now\n",
      "http://us.click.yahoo.com/pt6YBB/NXiEAA/mG3HAA/7gSolB/TM\n",
      "---------------------------------------------------------------------~->\n",
      "\n",
      "To unsubscribe from this group, send an email to:\n",
      "forteana-unsubscribe@egroups.com\n",
      "\n",
      " \n",
      "\n",
      "Your use of Yahoo! Groups is subject to http://docs.yahoo.com/info/terms/\n"
     ]
    }
   ],
   "source": [
    "# 햄메일 예시\n",
    "print(ham_emails[1].get_content().strip())"
   ]
  },
  {
   "cell_type": "code",
   "execution_count": 12,
   "id": "3b93c5fd",
   "metadata": {},
   "outputs": [
    {
     "name": "stdout",
     "output_type": "stream",
     "text": [
      "Help wanted.  We are a 14 year old fortune 500 company, that is\n",
      "growing at a tremendous rate.  We are looking for individuals who\n",
      "want to work from home.\n",
      "\n",
      "This is an opportunity to make an excellent income.  No experience\n",
      "is required.  We will train you.\n",
      "\n",
      "So if you are looking to be employed from home with a career that has\n",
      "vast opportunities, then go:\n",
      "\n",
      "http://www.basetel.com/wealthnow\n",
      "\n",
      "We are looking for energetic and self motivated people.  If that is you\n",
      "than click on the link and fill out the form, and one of our\n",
      "employement specialist will contact you.\n",
      "\n",
      "To be removed from our link simple go to:\n",
      "\n",
      "http://www.basetel.com/remove.html\n",
      "\n",
      "\n",
      "4139vOLW7-758DoDY1425FRhM1-764SMFc8513fCsLl40\n"
     ]
    }
   ],
   "source": [
    "# 스팸메일 예시\n",
    "print(spam_emails[6].get_content().strip())"
   ]
  },
  {
   "cell_type": "code",
   "execution_count": 13,
   "id": "1969e2f1",
   "metadata": {},
   "outputs": [],
   "source": [
    "# 이메일 구조 살펴보기\n",
    "# 멀티파트 -> 이미지나 첨부파일을 가진 이메일\n",
    "\n",
    "def get_email_structure(email):\n",
    "    if isinstance(email, str):\n",
    "        # isinstance(1, 2) -> 1의 타입이 2인지 확인 맞으면 true 반환\n",
    "        return email\n",
    "        # if email's type is only str, return email and end\n",
    "    payload = email.get_payload()\n",
    "    # 이메일 안에 내용을 전부 띄어쓰기를 /n으로 변환해 작성\n",
    "    if isinstance(payload, list):\n",
    "        # payload가 리스트인지 확인하고\n",
    "        # 리스트일시, 컨텐트타입을 모두 반환\n",
    "        return \"multipart({})\".format(\", \".join([\n",
    "            get_email_structure(sub_email)\n",
    "            for sub_email in payload\n",
    "        ]))\n",
    "    else:\n",
    "        # payload가 list가 아닐시, 내용타입 반환\n",
    "        # 밑에서 확인하면 알 수 있듯이 'text/plain'이 대부분\n",
    "        return email.get_content_type()"
   ]
  },
  {
   "cell_type": "code",
   "execution_count": 14,
   "id": "3fba211c",
   "metadata": {},
   "outputs": [],
   "source": [
    "from collections import Counter\n",
    "\n",
    "def structures_counter(emails):\n",
    "    structures = Counter()\n",
    "    for email in emails:\n",
    "        structure = get_email_structure(email)\n",
    "        structures[structure] += 1 # 동일한 이메일 구조에 하나씩 추가\n",
    "    return structures"
   ]
  },
  {
   "cell_type": "code",
   "execution_count": 15,
   "id": "796f053b",
   "metadata": {},
   "outputs": [
    {
     "data": {
      "text/plain": [
       "[('text/plain', 2408),\n",
       " ('multipart(text/plain, application/pgp-signature)', 66),\n",
       " ('multipart(text/plain, text/html)', 8),\n",
       " ('multipart(text/plain, text/plain)', 4),\n",
       " ('multipart(text/plain)', 3),\n",
       " ('multipart(text/plain, application/octet-stream)', 2),\n",
       " ('multipart(text/plain, text/enriched)', 1),\n",
       " ('multipart(text/plain, application/ms-tnef, text/plain)', 1),\n",
       " ('multipart(multipart(text/plain, text/plain, text/plain), application/pgp-signature)',\n",
       "  1),\n",
       " ('multipart(text/plain, video/mng)', 1),\n",
       " ('multipart(text/plain, multipart(text/plain))', 1),\n",
       " ('multipart(text/plain, application/x-pkcs7-signature)', 1),\n",
       " ('multipart(text/plain, multipart(text/plain, text/plain), text/rfc822-headers)',\n",
       "  1),\n",
       " ('multipart(text/plain, multipart(text/plain, text/plain), multipart(multipart(text/plain, application/x-pkcs7-signature)))',\n",
       "  1),\n",
       " ('multipart(text/plain, application/x-java-applet)', 1)]"
      ]
     },
     "execution_count": 15,
     "metadata": {},
     "output_type": "execute_result"
    }
   ],
   "source": [
    "structures_counter(ham_emails).most_common() # 위에서 정리한 이메일 구조, 햄메일에 대한 전체 요약"
   ]
  },
  {
   "cell_type": "code",
   "execution_count": 16,
   "id": "55dda23e",
   "metadata": {},
   "outputs": [
    {
     "data": {
      "text/plain": [
       "[('text/plain', 218),\n",
       " ('text/html', 183),\n",
       " ('multipart(text/plain, text/html)', 45),\n",
       " ('multipart(text/html)', 20),\n",
       " ('multipart(text/plain)', 19),\n",
       " ('multipart(multipart(text/html))', 5),\n",
       " ('multipart(text/plain, image/jpeg)', 3),\n",
       " ('multipart(text/html, application/octet-stream)', 2),\n",
       " ('multipart(text/plain, application/octet-stream)', 1),\n",
       " ('multipart(text/html, text/plain)', 1),\n",
       " ('multipart(multipart(text/html), application/octet-stream, image/jpeg)', 1),\n",
       " ('multipart(multipart(text/plain, text/html), image/gif)', 1),\n",
       " ('multipart/alternative', 1)]"
      ]
     },
     "execution_count": 16,
     "metadata": {},
     "output_type": "execute_result"
    }
   ],
   "source": [
    "structures_counter(spam_emails).most_common() # 위에서 정리한 이메일 구조, 스팸메일에 대한 전체 요약"
   ]
  },
  {
   "cell_type": "code",
   "execution_count": 17,
   "id": "8326f1a7",
   "metadata": {},
   "outputs": [],
   "source": [
    "# 이메일 구조 요약\n",
    "# 햄메일에는 평범한 텍스트가 많고 스팸메일에는 HTML이 많음\n",
    "# 적은 수의 햄 이메일이 PGP로 서명되어 있지만 스팸 메일에는 없음."
   ]
  },
  {
   "cell_type": "code",
   "execution_count": 18,
   "id": "268e713c",
   "metadata": {},
   "outputs": [
    {
     "name": "stdout",
     "output_type": "stream",
     "text": [
      "Return-Path : <12a1mailbot1@web.de>\n",
      "Delivered-To : zzzz@localhost.spamassassin.taint.org\n",
      "Received : from localhost (localhost [127.0.0.1])\tby phobos.labs.spamassassin.taint.org (Postfix) with ESMTP id 136B943C32\tfor <zzzz@localhost>; Thu, 22 Aug 2002 08:17:21 -0400 (EDT)\n",
      "Received : from mail.webnote.net [193.120.211.219]\tby localhost with POP3 (fetchmail-5.9.0)\tfor zzzz@localhost (single-drop); Thu, 22 Aug 2002 13:17:21 +0100 (IST)\n",
      "Received : from dd_it7 ([210.97.77.167])\tby webnote.net (8.9.3/8.9.3) with ESMTP id NAA04623\tfor <zzzz@spamassassin.taint.org>; Thu, 22 Aug 2002 13:09:41 +0100\n",
      "From : 12a1mailbot1@web.de\n",
      "Received : from r-smtp.korea.com - 203.122.2.197 by dd_it7  with Microsoft SMTPSVC(5.5.1775.675.6);\t Sat, 24 Aug 2002 09:42:10 +0900\n",
      "To : dcek1a1@netsgo.com\n",
      "Subject : Life Insurance - Why Pay More?\n",
      "Date : Wed, 21 Aug 2002 20:31:57 -1600\n",
      "MIME-Version : 1.0\n",
      "Message-ID : <0103c1042001882DD_IT7@dd_it7>\n",
      "Content-Type : text/html; charset=\"iso-8859-1\"\n",
      "Content-Transfer-Encoding : quoted-printable\n"
     ]
    }
   ],
   "source": [
    "# 이메일 헤더 살펴보기\n",
    "# 아래에서 살펴볼 수 있듯이 많은 내용이 있지만 제목만 살펴보자\n",
    "\n",
    "for header, value in spam_emails[0].items():\n",
    "    print(header,\":\",value)"
   ]
  },
  {
   "cell_type": "code",
   "execution_count": 19,
   "id": "051ca63a",
   "metadata": {},
   "outputs": [
    {
     "data": {
      "text/plain": [
       "'Life Insurance - Why Pay More?'"
      ]
     },
     "execution_count": 19,
     "metadata": {},
     "output_type": "execute_result"
    }
   ],
   "source": [
    "spam_emails[0][\"Subject\"]"
   ]
  },
  {
   "cell_type": "code",
   "execution_count": 20,
   "id": "462137af",
   "metadata": {},
   "outputs": [],
   "source": [
    "# 테스트세트와 훈련세트로 나누기\n",
    "\n",
    "import numpy as np\n",
    "from sklearn.model_selection import train_test_split\n",
    "\n",
    "X = np.array(ham_emails + spam_emails, dtype=object) # 햄메일과 스팸메일 오브젝트 단위로 합침\n",
    "y = np.array([0] * len(ham_emails) + [1] * len(spam_emails)) # 햄메일에는 라벨 0, 스펨메일에는 라벨1\n",
    "\n",
    "X_train, X_test, y_train, y_test = train_test_split(X, y, test_size=0.2, random_state=42)\n",
    "# 훈련세트와 테스트세트 생성"
   ]
  },
  {
   "cell_type": "code",
   "execution_count": 21,
   "id": "9ad56ec0",
   "metadata": {},
   "outputs": [],
   "source": [
    "# 데이터 전처리\n",
    "# html이 포함된 데이터를 전처리할 필요가 있음\n",
    "# 다음 함수는 <head> 섹션을 삭제하고 모든 <a> 태그를 HYPERLINK 문자로 바꿉니다. \n",
    "# 그런 다음 모든 HTML 태그를 제거하고 텍스트만 남깁니다. \n",
    "# 보기 편하게 여러개의 개행 문자를 하나로 만들고 (&gt;나 &nbsp; 같은) html 엔티티를 복원합니다\n",
    "\n",
    "import re\n",
    "from html import unescape\n",
    "\n",
    "def html_to_plain_text(html):\n",
    "    text = re.sub('<head.*?>.*?</head>', '', html, flags=re.M | re.S | re.I) # head to empty\n",
    "    text = re.sub('<a\\s.*?>', ' HYPERLINK ', text, flags=re.M | re.S | re.I) # a to hyperlink\n",
    "    text = re.sub('<.*?>', '', text, flags=re.M | re.S) # rest thing from html to empty\n",
    "    text = re.sub(r'(\\s*\\n)+', '\\n', text, flags=re.M | re.S) # rest thing from html to empty\n",
    "    return unescape(text)"
   ]
  },
  {
   "cell_type": "code",
   "execution_count": 22,
   "id": "5b2ad425",
   "metadata": {},
   "outputs": [
    {
     "name": "stdout",
     "output_type": "stream",
     "text": [
      "<HTML><HEAD><TITLE></TITLE><META http-equiv=\"Content-Type\" content=\"text/html; charset=windows-1252\"><STYLE>A:link {TEX-DECORATION: none}A:active {TEXT-DECORATION: none}A:visited {TEXT-DECORATION: none}A:hover {COLOR: #0033ff; TEXT-DECORATION: underline}</STYLE><META content=\"MSHTML 6.00.2713.1100\" name=\"GENERATOR\"></HEAD>\n",
      "<BODY text=\"#000000\" vLink=\"#0033ff\" link=\"#0033ff\" bgColor=\"#CCCC99\"><TABLE borderColor=\"#660000\" cellSpacing=\"0\" cellPadding=\"0\" border=\"0\" width=\"100%\"><TR><TD bgColor=\"#CCCC99\" valign=\"top\" colspan=\"2\" height=\"27\">\n",
      "<font size=\"6\" face=\"Arial, Helvetica, sans-serif\" color=\"#660000\">\n",
      "<b>OTC</b></font></TD></TR><TR><TD height=\"2\" bgcolor=\"#6a694f\">\n",
      "<font size=\"5\" face=\"Times New Roman, Times, serif\" color=\"#FFFFFF\">\n",
      "<b>&nbsp;Newsletter</b></font></TD><TD height=\"2\" bgcolor=\"#6a694f\"><div align=\"right\"><font color=\"#FFFFFF\">\n",
      "<b>Discover Tomorrow's Winners&nbsp;</b></font></div></TD></TR><TR><TD height=\"25\" colspan=\"2\" bgcolor=\"#CCCC99\"><table width=\"100%\" border=\"0\"  ...\n"
     ]
    }
   ],
   "source": [
    "# Figuring out it is working well\n",
    "\n",
    "html_spam_emails = [email for email in X_train[y_train==1] # Finding Spam-mail in Train set\n",
    "                    if get_email_structure(email) == \"text/html\"] # and also \"text/html\" structure\n",
    "sample_html_spam = html_spam_emails[7] # sample\n",
    "print(sample_html_spam.get_content().strip()[:1000], \"...\") # bring up to 1000 str and print ..."
   ]
  },
  {
   "cell_type": "code",
   "execution_count": 23,
   "id": "51e053a3",
   "metadata": {},
   "outputs": [
    {
     "name": "stdout",
     "output_type": "stream",
     "text": [
      "\n",
      "OTC\n",
      " Newsletter\n",
      "Discover Tomorrow's Winners \n",
      "For Immediate Release\n",
      "Cal-Bay (Stock Symbol: CBYI)\n",
      "Watch for analyst \"Strong Buy Recommendations\" and several advisory newsletters picking CBYI.  CBYI has filed to be traded on the OTCBB, share prices historically INCREASE when companies get listed on this larger trading exchange. CBYI is trading around 25 cents and should skyrocket to $2.66 - $3.25 a share in the near future.\n",
      "Put CBYI on your watch list, acquire a position TODAY.\n",
      "REASONS TO INVEST IN CBYI\n",
      "A profitable company and is on track to beat ALL earnings estimates!\n",
      "One of the FASTEST growing distributors in environmental & safety equipment instruments.\n",
      "Excellent management team, several EXCLUSIVE contracts.  IMPRESSIVE client list including the U.S. Air Force, Anheuser-Busch, Chevron Refining and Mitsubishi Heavy Industries, GE-Energy & Environmental Research.\n",
      "RAPIDLY GROWING INDUSTRY\n",
      "Industry revenues exceed $900 million, estimates indicate that there could be as much as $25 billi ...\n"
     ]
    }
   ],
   "source": [
    "# Converting sample\n",
    "\n",
    "print(html_to_plain_text(sample_html_spam.get_content())[:1000], \"...\")"
   ]
  },
  {
   "cell_type": "code",
   "execution_count": 24,
   "id": "542cf47a",
   "metadata": {},
   "outputs": [],
   "source": [
    "# Converting test no matter what their type\n",
    "\n",
    "def email_to_text(email):\n",
    "    html = None\n",
    "    for part in email.walk():\n",
    "        ctype = part.get_content_type()\n",
    "        if not ctype in (\"text/plain\", \"text/html\"):\n",
    "            continue\n",
    "        try:\n",
    "            content = part.get_content()\n",
    "        except: # in case of encoding issues\n",
    "            content = str(part.get_payload())\n",
    "        if ctype == \"text/plain\":\n",
    "            return content\n",
    "        else:\n",
    "            html = content\n",
    "    if html:\n",
    "        return html_to_plain_text(html)"
   ]
  },
  {
   "cell_type": "code",
   "execution_count": 25,
   "id": "a14c44b9",
   "metadata": {},
   "outputs": [
    {
     "name": "stdout",
     "output_type": "stream",
     "text": [
      "\n",
      "OTC\n",
      " Newsletter\n",
      "Discover Tomorrow's Winners \n",
      "For Immediate Release\n",
      "Cal-Bay (Stock Symbol: CBYI)\n",
      "Wat ...\n"
     ]
    }
   ],
   "source": [
    "print(email_to_text(sample_html_spam)[:100], \"...\")"
   ]
  },
  {
   "cell_type": "code",
   "execution_count": 81,
   "id": "c9ca5f4c",
   "metadata": {},
   "outputs": [
    {
     "name": "stdout",
     "output_type": "stream",
     "text": [
      "Requirement already satisfied: nltk in /Users/mokjaemin/Library/Python/3.9/lib/python/site-packages (3.7)\n",
      "Requirement already satisfied: tqdm in /Users/mokjaemin/Library/Python/3.9/lib/python/site-packages (from nltk) (4.63.0)\n",
      "Requirement already satisfied: regex>=2021.8.3 in /Users/mokjaemin/Library/Python/3.9/lib/python/site-packages (from nltk) (2022.3.2)\n",
      "Requirement already satisfied: click in /Library/Frameworks/Python.framework/Versions/3.9/lib/python3.9/site-packages (from nltk) (8.0.1)\n",
      "Requirement already satisfied: joblib in /Library/Frameworks/Python.framework/Versions/3.9/lib/python3.9/site-packages (from nltk) (1.0.1)\n",
      "\u001b[33mWARNING: You are using pip version 21.2.2; however, version 22.0.4 is available.\n",
      "You should consider upgrading via the '/Library/Frameworks/Python.framework/Versions/3.9/bin/python3.9 -m pip install --upgrade pip' command.\u001b[0m\n"
     ]
    }
   ],
   "source": [
    "!pip install nltk"
   ]
  },
  {
   "cell_type": "code",
   "execution_count": 27,
   "id": "388e99b1",
   "metadata": {},
   "outputs": [
    {
     "name": "stdout",
     "output_type": "stream",
     "text": [
      "Computations => comput\n",
      "Computation => comput\n",
      "Computing => comput\n",
      "Computed => comput\n",
      "Compute => comput\n",
      "Compulsive => compuls\n"
     ]
    }
   ],
   "source": [
    "try:\n",
    "    import nltk\n",
    "    stemmer = nltk.PorterStemmer()\n",
    "    for word in (\"Computations\", \"Computation\", \"Computing\", \"Computed\", \"Compute\", \"Compulsive\"):\n",
    "        print(word, \"=>\", stemmer.stem(word))\n",
    "except ImportError:\n",
    "    print(\"Error: stemming requires the NLTK module.\")\n",
    "    stemmer = None"
   ]
  },
  {
   "cell_type": "code",
   "execution_count": 28,
   "id": "44ce2b2d",
   "metadata": {},
   "outputs": [],
   "source": [
    "try:\n",
    "    import google.colab\n",
    "    %pip install -q -U urlextract\n",
    "except ImportError:\n",
    "    pass # 코랩에서는 실행되지 않음"
   ]
  },
  {
   "cell_type": "code",
   "execution_count": 29,
   "id": "70a39726",
   "metadata": {},
   "outputs": [
    {
     "name": "stdout",
     "output_type": "stream",
     "text": [
      "Error: replacing URLs requires the urlextract module.\n"
     ]
    }
   ],
   "source": [
    "try:\n",
    "    import urlextract # 루트 도메인 이름을 다운로드하기 위해 인터넷 연결이 필요할지 모릅니다\n",
    "    \n",
    "    url_extractor = urlextract.URLExtract()\n",
    "    print(url_extractor.find_urls(\"Will it detect github.com and https://youtu.be/7Pq-S557XQU?t=3m32s\"))\n",
    "except ImportError:\n",
    "    print(\"Error: replacing URLs requires the urlextract module.\")\n",
    "    url_extractor = None"
   ]
  },
  {
   "cell_type": "code",
   "execution_count": null,
   "id": "c311b741",
   "metadata": {},
   "outputs": [],
   "source": []
  }
 ],
 "metadata": {
  "kernelspec": {
   "display_name": "Python 3 (ipykernel)",
   "language": "python",
   "name": "python3"
  },
  "language_info": {
   "codemirror_mode": {
    "name": "ipython",
    "version": 3
   },
   "file_extension": ".py",
   "mimetype": "text/x-python",
   "name": "python",
   "nbconvert_exporter": "python",
   "pygments_lexer": "ipython3",
   "version": "3.9.2"
  }
 },
 "nbformat": 4,
 "nbformat_minor": 5
}
